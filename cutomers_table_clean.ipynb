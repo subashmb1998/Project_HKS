{
  "nbformat": 4,
  "nbformat_minor": 0,
  "metadata": {
    "colab": {
      "provenance": [],
      "mount_file_id": "1t8a1NqRS0QD94Om4Leju1DnfhVK3S6Mx",
      "authorship_tag": "ABX9TyNh3I6VguQbjKDNTfwHPRxz",
      "include_colab_link": true
    },
    "kernelspec": {
      "name": "python3",
      "display_name": "Python 3"
    },
    "language_info": {
      "name": "python"
    }
  },
  "cells": [
    {
      "cell_type": "markdown",
      "metadata": {
        "id": "view-in-github",
        "colab_type": "text"
      },
      "source": [
        "<a href=\"https://colab.research.google.com/github/subashmb1998/Project_HKS/blob/main/cutomers_table_clean.ipynb\" target=\"_parent\"><img src=\"https://colab.research.google.com/assets/colab-badge.svg\" alt=\"Open In Colab\"/></a>"
      ]
    },
    {
      "cell_type": "code",
      "source": [
        "# Install Java\n",
        "!apt-get install openjdk-8-jdk-headless -qq > /dev/null\n",
        "\n",
        "# Install Spark\n",
        "!wget -q https://archive.apache.org/dist/spark/spark-3.1.2/spark-3.1.2-bin-hadoop2.7.tgz\n",
        "!tar xf spark-3.1.2-bin-hadoop2.7.tgz\n",
        "!rm spark-3.1.2-bin-hadoop2.7.tgz\n",
        "\n",
        "# Install findspark\n",
        "!pip install -q findspark\n",
        "\n",
        "# Set environment variables\n",
        "import os\n",
        "os.environ[\"JAVA_HOME\"] = \"/usr/lib/jvm/java-8-openjdk-amd64\"\n",
        "os.environ[\"SPARK_HOME\"] = \"/content/spark-3.1.2-bin-hadoop2.7\"\n",
        "\n",
        "# Initialize findspark\n",
        "import findspark\n",
        "findspark.init()\n",
        "\n",
        "# Verify the installation\n",
        "from pyspark.sql import SparkSession\n",
        "spark = SparkSession.builder.master(\"local[*]\").appName(\"colab\").getOrCreate()\n",
        "spark"
      ],
      "metadata": {
        "colab": {
          "base_uri": "https://localhost:8080/",
          "height": 219
        },
        "id": "-wEDW8F7U-l5",
        "outputId": "48cd712f-9087-40da-8aba-b0d8b9214840"
      },
      "execution_count": null,
      "outputs": [
        {
          "output_type": "execute_result",
          "data": {
            "text/plain": [
              "<pyspark.sql.session.SparkSession at 0x7932f0329e70>"
            ],
            "text/html": [
              "\n",
              "            <div>\n",
              "                <p><b>SparkSession - in-memory</b></p>\n",
              "                \n",
              "        <div>\n",
              "            <p><b>SparkContext</b></p>\n",
              "\n",
              "            <p><a href=\"http://888bb67502a9:4040\">Spark UI</a></p>\n",
              "\n",
              "            <dl>\n",
              "              <dt>Version</dt>\n",
              "                <dd><code>v3.1.2</code></dd>\n",
              "              <dt>Master</dt>\n",
              "                <dd><code>local[*]</code></dd>\n",
              "              <dt>AppName</dt>\n",
              "                <dd><code>colab</code></dd>\n",
              "            </dl>\n",
              "        </div>\n",
              "        \n",
              "            </div>\n",
              "        "
            ]
          },
          "metadata": {},
          "execution_count": 1
        }
      ]
    },
    {
      "cell_type": "code",
      "source": [
        "from google.colab import drive\n",
        "drive.mount('/content/drive')"
      ],
      "metadata": {
        "id": "ySJR6DOnBBnP"
      },
      "execution_count": null,
      "outputs": []
    },
    {
      "cell_type": "code",
      "source": [],
      "metadata": {
        "id": "oxAf4rmGj_0r"
      },
      "execution_count": null,
      "outputs": []
    },
    {
      "cell_type": "code",
      "source": [
        "#using delimiter to confirm file separated by ',' coma\n",
        "#using the option multiline 'true'\n",
        "#https://chatgpt.com/share/cd74468d-506f-452d-9970-dbe2a757abc4\n",
        "\n",
        "df_read = spark.read.format(\"csv\").option(\"header\",\"true\").option(\"delimiter\",',').option('multiline','true').load(\"/content/drive/MyDrive/Projects/HKS/Customers Vaniamkulam on 23 05 2024.csv\")"
      ],
      "metadata": {
        "id": "v2-UCvbiSO4u"
      },
      "execution_count": null,
      "outputs": []
    },
    {
      "cell_type": "code",
      "source": [
        "df_read.show(1)"
      ],
      "metadata": {
        "colab": {
          "base_uri": "https://localhost:8080/"
        },
        "id": "IGeRGCZzStcX",
        "outputId": "1d49bd65-018e-427c-8b6a-be008532d3de"
      },
      "execution_count": null,
      "outputs": [
        {
          "output_type": "stream",
          "name": "stdout",
          "text": [
            "+---------------+-------------+-----------+--------------------+-------------+-------------+------------+---------------+----------------+-----------+-------------+-------------+----------------+--------------------+-------------------+---------------------------+-------------------+-----------+---------------------+------------------+------------------+--------------------+-----+----------+----------+--------------------+--------------------+------------------------------+------------------------------+-------------+------------------+----------------------+---------+---------+----------+-------------+---------------+--------------+------------------+--------------------+-------------+---------------------+----------------+-----------------------+---------------------+-------------------+-----------------+-------------------+------------------+---------+---------------+\n",
            "|CUSTOMER_NUMBER|CUSTOMER_NAME|    QR_CODE|        ORGANIZATION|SURVEYOR_NAME|         WARD|TRADING_TYPE|PROPERTY_NUMBER|ASSOCIATION_NAME|DOOR_STATUS|PROPERTY_NAME|PROPERTY_TYPE|BIO_WASTE_STATUS|NON_BIO_WASTE_STATUS|TERRACE_FARM_STATUS|PROPERTY_OWNER_PHONE_NUMBER|PROPERTY_OWNER_NAME|TOTAL_HOUSE|GREEN_PROTOCOL_STATUS|ASSOCIATION_NUMBER|PROPERTY_OWNERSHIP|             ADDRESS|IMAGE|  LATITUDE| LONGITUDE|   FORMATTED ADDRESS|PROPERTY_TENANT_NAME|PROPERTY_TENANT_PHONE_NUMBER27|PROPERTY_TENANT_PHONE_NUMBER28|PROPERTY_AREA|BIO_WASTE_QUANTITY|NON_BIO_WASTE_QUANTITY|ROAD_NAME|ROAD_TYPE|ROAD_WIDTH|TOTAL_MEMBERS|TOTAL_GROWN_UPS|TOTAL_CHILDREN|RATION_CARD_NUMBER|    RATION_CARD_TYPE|ANNUAL_INCOME|BIO_WASTE_MANURE_USED|BIO_WASTE_REPAIR|REQUIRE_DETAILED_SURVEY|VEHICLE_ACCESSIBILITY|TOILET_WASTE_SYSTEM|GRAY_WATER_SYSTEM|SEPTIC_TANK_REMOVAL|WASTE_WATER_SYSTEM|QR_NUMBER|PROPERTY_LENGTH|\n",
            "+---------------+-------------+-----------+--------------------+-------------+-------------+------------+---------------+----------------+-----------+-------------+-------------+----------------+--------------------+-------------------+---------------------------+-------------------+-----------+---------------------+------------------+------------------+--------------------+-----+----------+----------+--------------------+--------------------+------------------------------+------------------------------+-------------+------------------+----------------------+---------+---------+----------+-------------+---------------+--------------+------------------+--------------------+-------------+---------------------+----------------+-----------------------+---------------------+-------------------+-----------------+-------------------+------------------+---------+---------------+\n",
            "| VIM-015-000607|     Rugumani|VIM-0009744|Vaniamkulam Grama...|   Sheeja C V|15-PATHIPPARA|        null|          15/44|            null|       Open|  VellarMpara|        House|            null|                null|               null|                       null|               null|       null|                 null|              null|               Own|Rugumani\n",
            "\n",
            "Vellara...| null|10.7752549|76.3147174|Q8F8+W3J, Koonath...|            Rugumani|                    9447055601|                    944XXXX601|         null|              null|                  null|     null|     null|      null|         null|           null|          null|        1900000000|NPS - Non Priorit...|         null|                 null|            null|                     No|                 null|               null|             null|               null|              null|     9744|           null|\n",
            "+---------------+-------------+-----------+--------------------+-------------+-------------+------------+---------------+----------------+-----------+-------------+-------------+----------------+--------------------+-------------------+---------------------------+-------------------+-----------+---------------------+------------------+------------------+--------------------+-----+----------+----------+--------------------+--------------------+------------------------------+------------------------------+-------------+------------------+----------------------+---------+---------+----------+-------------+---------------+--------------+------------------+--------------------+-------------+---------------------+----------------+-----------------------+---------------------+-------------------+-----------------+-------------------+------------------+---------+---------------+\n",
            "only showing top 1 row\n",
            "\n"
          ]
        }
      ]
    },
    {
      "cell_type": "code",
      "source": [
        "df_read.columns"
      ],
      "metadata": {
        "colab": {
          "base_uri": "https://localhost:8080/"
        },
        "id": "Z0dTAOxMWBN7",
        "outputId": "e7b41e45-d994-499d-a2de-1f647637200f"
      },
      "execution_count": null,
      "outputs": [
        {
          "output_type": "execute_result",
          "data": {
            "text/plain": [
              "['CUSTOMER_NUMBER',\n",
              " 'CUSTOMER_NAME',\n",
              " 'QR_CODE',\n",
              " 'ORGANIZATION',\n",
              " 'SURVEYOR_NAME',\n",
              " 'WARD',\n",
              " 'TRADING_TYPE',\n",
              " 'PROPERTY_NUMBER',\n",
              " 'ASSOCIATION_NAME',\n",
              " 'DOOR_STATUS',\n",
              " 'PROPERTY_NAME',\n",
              " 'PROPERTY_TYPE',\n",
              " 'BIO_WASTE_STATUS',\n",
              " 'NON_BIO_WASTE_STATUS',\n",
              " 'TERRACE_FARM_STATUS',\n",
              " 'PROPERTY_OWNER_PHONE_NUMBER',\n",
              " 'PROPERTY_OWNER_NAME',\n",
              " 'TOTAL_HOUSE',\n",
              " 'GREEN_PROTOCOL_STATUS',\n",
              " 'ASSOCIATION_NUMBER',\n",
              " 'PROPERTY_OWNERSHIP',\n",
              " 'ADDRESS',\n",
              " 'IMAGE',\n",
              " 'LATITUDE',\n",
              " 'LONGITUDE',\n",
              " 'FORMATTED ADDRESS',\n",
              " 'PROPERTY_TENANT_NAME',\n",
              " 'PROPERTY_TENANT_PHONE_NUMBER27',\n",
              " 'PROPERTY_TENANT_PHONE_NUMBER28',\n",
              " 'PROPERTY_AREA',\n",
              " 'BIO_WASTE_QUANTITY',\n",
              " 'NON_BIO_WASTE_QUANTITY',\n",
              " 'ROAD_NAME',\n",
              " 'ROAD_TYPE',\n",
              " 'ROAD_WIDTH',\n",
              " 'TOTAL_MEMBERS',\n",
              " 'TOTAL_GROWN_UPS',\n",
              " 'TOTAL_CHILDREN',\n",
              " 'RATION_CARD_NUMBER',\n",
              " 'RATION_CARD_TYPE',\n",
              " 'ANNUAL_INCOME',\n",
              " 'BIO_WASTE_MANURE_USED',\n",
              " 'BIO_WASTE_REPAIR',\n",
              " 'REQUIRE_DETAILED_SURVEY',\n",
              " 'VEHICLE_ACCESSIBILITY',\n",
              " 'TOILET_WASTE_SYSTEM',\n",
              " 'GRAY_WATER_SYSTEM',\n",
              " 'SEPTIC_TANK_REMOVAL',\n",
              " 'WASTE_WATER_SYSTEM',\n",
              " 'QR_NUMBER',\n",
              " 'PROPERTY_LENGTH']"
            ]
          },
          "metadata": {},
          "execution_count": 4
        }
      ]
    },
    {
      "cell_type": "code",
      "source": [
        "from pyspark.sql.functions import *"
      ],
      "metadata": {
        "id": "ZTtlq4X8ZFQ1"
      },
      "execution_count": null,
      "outputs": []
    },
    {
      "cell_type": "code",
      "source": [
        "#In text data, especially addresses, it's common to have multiple lines,\n",
        "#especially if the data was manually entered or extracted from a multi-line source.\n",
        "#Newline and carriage return characters can break the consistency of the address format or cause issues when processing the data\n",
        "#so here using regexp_replace\n",
        "#regexp_replace: This is a function from the pyspark.sql.functions module that replaces substrings in a string column based on a regular expression pattern.\n",
        "\n",
        "\n",
        "df_read = df_read.withColumn(\"ADDRESS\", regexp_replace('ADDRESS','[\\b\\n\\r]',','))"
      ],
      "metadata": {
        "id": "exN7UCeXYS0U"
      },
      "execution_count": null,
      "outputs": []
    },
    {
      "cell_type": "code",
      "source": [
        "cols = [\n",
        " 'CUSTOMER_NUMBER',\n",
        " 'CUSTOMER_NAME',\n",
        " 'QR_CODE',\n",
        " 'ORGANIZATION',\n",
        " 'SURVEYOR_NAME',\n",
        " 'WARD',\n",
        " 'TRADING_TYPE',\n",
        " 'PROPERTY_NUMBER',\n",
        " 'ASSOCIATION_NAME',\n",
        " 'DOOR_STATUS',\n",
        " 'PROPERTY_NAME',\n",
        " 'PROPERTY_TYPE',\n",
        " 'BIO_WASTE_STATUS',\n",
        " 'NON_BIO_WASTE_STATUS',\n",
        " 'TERRACE_FARM_STATUS',\n",
        " 'PROPERTY_OWNER_NAME',\n",
        " 'TOTAL_HOUSE',\n",
        " 'GREEN_PROTOCOL_STATUS',\n",
        " 'ASSOCIATION_NUMBER',\n",
        " 'PROPERTY_OWNERSHIP',\n",
        " 'ADDRESS',\n",
        " 'IMAGE',\n",
        " 'LATITUDE',\n",
        " 'LONGITUDE',\n",
        " 'FORMATTED ADDRESS',\n",
        " 'PROPERTY_TENANT_NAME',\n",
        " 'PROPERTY_TENANT_PHONE_NUMBER28',\n",
        " 'PROPERTY_AREA',\n",
        " 'BIO_WASTE_QUANTITY',\n",
        " 'NON_BIO_WASTE_QUANTITY',\n",
        " 'ROAD_NAME',\n",
        " 'ROAD_TYPE',\n",
        " 'ROAD_WIDTH',\n",
        " 'TOTAL_MEMBERS',\n",
        " 'TOTAL_GROWN_UPS',\n",
        " 'TOTAL_CHILDREN',\n",
        " 'RATION_CARD_NUMBER',\n",
        " 'RATION_CARD_TYPE',\n",
        " 'ANNUAL_INCOME',\n",
        " 'BIO_WASTE_MANURE_USED',\n",
        " 'BIO_WASTE_REPAIR',\n",
        " 'REQUIRE_DETAILED_SURVEY',\n",
        " 'VEHICLE_ACCESSIBILITY',\n",
        " 'TOILET_WASTE_SYSTEM',\n",
        " 'GRAY_WATER_SYSTEM',\n",
        " 'SEPTIC_TANK_REMOVAL',\n",
        " 'WASTE_WATER_SYSTEM',\n",
        " 'QR_NUMBER',\n",
        " 'PROPERTY_LENGTH'\n",
        "]"
      ],
      "metadata": {
        "id": "pbsZ5AF8wuTa"
      },
      "execution_count": null,
      "outputs": []
    },
    {
      "cell_type": "code",
      "source": [
        "df_new = df_read.select(cols)"
      ],
      "metadata": {
        "id": "sXbjIFo6WuZ2"
      },
      "execution_count": null,
      "outputs": []
    },
    {
      "cell_type": "markdown",
      "source": [],
      "metadata": {
        "id": "B0_MWBjPXoh4"
      }
    },
    {
      "cell_type": "code",
      "source": [
        "df_new.createOrReplaceTempView(\"df_new\")"
      ],
      "metadata": {
        "id": "ZGnFhlqnuCy-"
      },
      "execution_count": null,
      "outputs": []
    },
    {
      "cell_type": "code",
      "source": [
        "# Get the list of columns\n",
        "column_names = df_new.columns\n",
        "\n",
        "# Identify columns where all values are null\n",
        "null_columns = [col for col in column_names if df_new.filter(df_new[col].isNotNull()).count() == 0]\n",
        "\n",
        "# Print null columns\n",
        "print(\"Columns with all null values:\", null_columns)\n"
      ],
      "metadata": {
        "id": "UXLgxUCfx_b8",
        "colab": {
          "base_uri": "https://localhost:8080/"
        },
        "outputId": "f7d9c1af-ea78-4d7f-ed25-482a84e70e70"
      },
      "execution_count": null,
      "outputs": [
        {
          "output_type": "stream",
          "name": "stdout",
          "text": [
            "Columns with all null values: ['ASSOCIATION_NAME', 'BIO_WASTE_STATUS', 'TERRACE_FARM_STATUS', 'GREEN_PROTOCOL_STATUS', 'ASSOCIATION_NUMBER', 'IMAGE', 'PROPERTY_AREA', 'BIO_WASTE_QUANTITY', 'NON_BIO_WASTE_QUANTITY', 'TOTAL_MEMBERS', 'TOTAL_GROWN_UPS', 'TOTAL_CHILDREN', 'ANNUAL_INCOME', 'BIO_WASTE_MANURE_USED', 'BIO_WASTE_REPAIR', 'TOILET_WASTE_SYSTEM', 'GRAY_WATER_SYSTEM', 'SEPTIC_TANK_REMOVAL', 'PROPERTY_LENGTH']\n"
          ]
        }
      ]
    },
    {
      "cell_type": "code",
      "source": [
        "# Select columns that are not completely null\n",
        "non_null_columns = [col for col in column_names if col not in null_columns]\n",
        "\n",
        "# Create a new DataFrame with non-null columns\n",
        "df_cleaned = df_new.select(*non_null_columns)"
      ],
      "metadata": {
        "id": "K3nfAENh1ZZR"
      },
      "execution_count": null,
      "outputs": []
    },
    {
      "cell_type": "code",
      "source": [
        "#df_cleaned.createOrReplaceTempView(\"df_cleaned_new\")"
      ],
      "metadata": {
        "id": "lbhUKKaOEXQL"
      },
      "execution_count": null,
      "outputs": []
    },
    {
      "cell_type": "code",
      "source": [
        "#spark.sql(\"SELECT * FROM df_cleaned WHERE PROPERTY_NUMBER NOT LIKE '%00%'\").show()"
      ],
      "metadata": {
        "id": "F6kWMqT-H2hg"
      },
      "execution_count": null,
      "outputs": []
    },
    {
      "cell_type": "code",
      "source": [
        "#spark.sql(\"select distinct WASTE_WATER_SYSTEM from df_cleaned_new \").show()"
      ],
      "metadata": {
        "id": "sxwz3NuCf4B6"
      },
      "execution_count": null,
      "outputs": []
    },
    {
      "cell_type": "code",
      "source": [
        "df_cleaned.select(\"WASTE_WATER_SYSTEM\").distinct().show()"
      ],
      "metadata": {
        "colab": {
          "base_uri": "https://localhost:8080/"
        },
        "id": "3F0AFWAPvggL",
        "outputId": "fa56af11-2575-442f-fd6f-328c9976ef98"
      },
      "execution_count": null,
      "outputs": [
        {
          "output_type": "stream",
          "name": "stdout",
          "text": [
            "+--------------------+\n",
            "|  WASTE_WATER_SYSTEM|\n",
            "+--------------------+\n",
            "|                null|\n",
            "|Septic tank and s...|\n",
            "+--------------------+\n",
            "\n"
          ]
        }
      ]
    },
    {
      "cell_type": "code",
      "source": [
        "#spark.sql(\"select distinct NON_BIO_WASTE_STATUS from df_cleaned_new \").show()"
      ],
      "metadata": {
        "id": "5LsojZaAg1JT"
      },
      "execution_count": null,
      "outputs": []
    },
    {
      "cell_type": "code",
      "source": [
        "df_cleaned.select(\"NON_BIO_WASTE_STATUS\").distinct().show()"
      ],
      "metadata": {
        "colab": {
          "base_uri": "https://localhost:8080/"
        },
        "id": "PXCpw7JdwF3v",
        "outputId": "1d59ad9b-8dc6-4ccf-84e3-4cadb0298938"
      },
      "execution_count": null,
      "outputs": [
        {
          "output_type": "stream",
          "name": "stdout",
          "text": [
            "+--------------------+\n",
            "|NON_BIO_WASTE_STATUS|\n",
            "+--------------------+\n",
            "|                null|\n",
            "|                  No|\n",
            "+--------------------+\n",
            "\n"
          ]
        }
      ]
    },
    {
      "cell_type": "code",
      "source": [
        "#after checking some columns have unmatched values so replacing with similar value\n",
        "\n",
        "\n",
        "df_clean1 = df_cleaned.na.fill({\"NON_BIO_WASTE_STATUS\":\"No\"})"
      ],
      "metadata": {
        "id": "uZiRCHNcSqC_"
      },
      "execution_count": null,
      "outputs": []
    },
    {
      "cell_type": "code",
      "source": [
        "df_clean2= df_clean1.na.fill({\"TOTAL_HOUSE\":\"1\"})"
      ],
      "metadata": {
        "id": "sj29XeJ5USdm"
      },
      "execution_count": null,
      "outputs": []
    },
    {
      "cell_type": "code",
      "source": [
        "df_clean3= df_clean2.na.fill({\"REQUIRE_DETAILED_SURVEY\":\"No\"})"
      ],
      "metadata": {
        "id": "xTv2wJXVVYXw"
      },
      "execution_count": null,
      "outputs": []
    },
    {
      "cell_type": "code",
      "source": [
        "df_clean4 = df_clean3.replace(\"0\",\"null\",subset=[\"RATION_CARD_NUMBER\"])"
      ],
      "metadata": {
        "id": "LrVD38nzVtM9"
      },
      "execution_count": null,
      "outputs": []
    },
    {
      "cell_type": "code",
      "source": [
        "#droping unwamted coloumns\n",
        "df_clean5 = df_clean4.drop(\"ROAD_NAME\",\"ROAD_TYPE\",\"ROAD_WIDTH\",\"QR_NUMBER\",\"NON_BIO_WASTE_STATUS\",\"REQUIRE_DETAILED_SURVEY\",\"VEHICLE_ACCESSIBILITY\",\"WASTE_WATER_SYSTEM\",\"FORMATTED ADDRESS\")"
      ],
      "metadata": {
        "id": "cr1MW0fVrRVq"
      },
      "execution_count": null,
      "outputs": []
    },
    {
      "cell_type": "code",
      "source": [
        "month_to_number = {\n",
        "    \"Jan\": \"01\", \"Feb\": \"02\", \"Mar\": \"03\", \"Apr\": \"04\",\n",
        "    \"May\": \"05\", \"Jun\": \"06\", \"Jul\": \"07\", \"Aug\": \"08\",\n",
        "    \"Sep\": \"09\", \"Oct\": \"10\", \"Nov\": \"11\", \"Dec\": \"12\"\n",
        "}"
      ],
      "metadata": {
        "id": "qeee4JDC79ls"
      },
      "execution_count": null,
      "outputs": []
    },
    {
      "cell_type": "code",
      "source": [
        "#in property_number column some numbers read as month so replace it with number\n",
        "\n",
        "\n",
        "df_date_clean = df_clean5\n",
        "for month, numb in month_to_number.items():\n",
        "    df_date_clean = df_date_clean.withColumn(\"PROPERTY_NUMBER\",\n",
        "                                             regexp_replace(col(\"PROPERTY_NUMBER\"), month, numb))"
      ],
      "metadata": {
        "id": "fO7gOzZ78Daq"
      },
      "execution_count": null,
      "outputs": []
    },
    {
      "cell_type": "code",
      "source": [
        "df_date_clean.show()"
      ],
      "metadata": {
        "colab": {
          "base_uri": "https://localhost:8080/"
        },
        "id": "2A5YRd5Y4Sn_",
        "outputId": "8a1efe51-1fe2-4ade-ea5a-13fef5049b37"
      },
      "execution_count": null,
      "outputs": [
        {
          "output_type": "stream",
          "name": "stdout",
          "text": [
            "+---------------+----------------+-----------+--------------------+--------------+-----------------+-----------------+---------------+-----------+--------------------+-------------+-------------------+-----------+------------------+--------------------+------------+------------+--------------------+------------------------------+------------------+--------------------+\n",
            "|CUSTOMER_NUMBER|   CUSTOMER_NAME|    QR_CODE|        ORGANIZATION| SURVEYOR_NAME|             WARD|     TRADING_TYPE|PROPERTY_NUMBER|DOOR_STATUS|       PROPERTY_NAME|PROPERTY_TYPE|PROPERTY_OWNER_NAME|TOTAL_HOUSE|PROPERTY_OWNERSHIP|             ADDRESS|    LATITUDE|   LONGITUDE|PROPERTY_TENANT_NAME|PROPERTY_TENANT_PHONE_NUMBER28|RATION_CARD_NUMBER|    RATION_CARD_TYPE|\n",
            "+---------------+----------------+-----------+--------------------+--------------+-----------------+-----------------+---------------+-----------+--------------------+-------------+-------------------+-----------+------------------+--------------------+------------+------------+--------------------+------------------------------+------------------+--------------------+\n",
            "| VIM-015-000607|        Rugumani|VIM-0009744|Vaniamkulam Grama...|    Sheeja C V|    15-PATHIPPARA|             null|          15/44|       Open|         VellarMpara|        House|               null|          1|               Own|Rugumani,,Vellara...|  10.7752549|  76.3147174|            Rugumani|                    944XXXX601|        1900000000|NPS - Non Priorit...|\n",
            "| VIM-014-000477|        Vipin.kp|VIM-0011009|Vaniamkulam Grama...|        Jaya P|     14-THRANGALI|             null|           14/0|       Open|             Maniyil|        House|               null|          1|               Own|       Vipin,Maniyil|  10.7636659|  76.3125992|            Vipin.kp|                    702XXXX529|          19000000|NPNS - Non Priori...|\n",
            "| VIM-014-000476|           Nisha|VIM-0010976|Vaniamkulam Grama...|        Jaya P|     14-THRANGALI|             null|          14/00|       Open|  Chundichipparambil|        House|             Sajith|          1|          For rent|     Sajith,Shornoor|  10.7694133|  76.3167817|               Nisha|                    909XXXX459|        1948131713|PHH - Priority Ho...|\n",
            "| VIM-015-000606|         Subitha|VIM-0010978|Vaniamkulam Grama...|    Sheeja C V|    15-PATHIPPARA|             null|         15/834|       Open|            Kunnumel|        House|               null|          1|               Own|Subitha,Kunnumel,...|  47.6081778|-122.3320375|             Subitha|                    984XXXX768|        1948231999|NPNS - Non Priori...|\n",
            "| VIM-002-000603|         Subeesh|VIM-0010536|Vaniamkulam Grama...|     Sumathi S|        2-EDAKODE|             null|              2|       Open|         Parapallath|        House|               null|          1|               Own|Subeesh,Parapalla...|-39.23224639| 22.67579801|             Subeesh|                    790XXXX437|              null|      No Ration Card|\n",
            "| VIM-002-000602|          Aneesh|VIM-0010330|Vaniamkulam Grama...|     Sumathi S|        2-EDAKODE|             null|          02-00|       Open|       Chirayilthodi|        House|               null|          1|               Own|Chirayilthodi ho,...|  10.7952009|  76.3280993|              Aneesh|                    907XXXX953|        1948232714|PHH - Priority Ho...|\n",
            "| VIM-002-000601|            Rema|VIM-0010587|Vaniamkulam Grama...|     Sumathi S|        2-EDAKODE|             null|              2|       Open|           Mullakkal|        House|               null|          1|               Own|Rema suneesh,Mull...| 47.60787784|-122.3308771|                Rema|                    974XXXX984|        1948174665|PHH - Priority Ho...|\n",
            "| VIM-008-000734|         Valsala|VIM-0011098|Vaniamkulam Grama...|   Safeena M Y|8-MANISSERI  EAST|             null|          08-00|       Open|             Mannath|        House|               null|          1|               Own|Mannath,Eastmanis...|  10.7741902|  76.3457847|             Valsala|                    944XXXX249|              null|      No Ration Card|\n",
            "| VIM-006-000640|     Nidheesh uk|VIM-0011069|Vaniamkulam Grama...|Premalatha A P|      6-MANISSERI|Stationery Stores|          6/826|       Open|           Krishmart|         Shop|               null|          1|               Own|Krishmartmanisser...|  10.7724117|  76.3455046|         Nidheesh uk|                    974XXXX273|              null|                null|\n",
            "| VIM-008-000733|ChamiEzhuthachan|VIM-0011088|Vaniamkulam Grama...|   Safeena M Y|8-MANISSERI  EAST|             null|          23-08|       Open|    Kalathumpadikkal|        House|               null|          1|               Own|Kalathumpadikkal,...|  10.7741952|  76.3457232|    ChamiEzhuthachan|                    984XXXX232|              null|      No Ration Card|\n",
            "| VIM-006-000639|       Nisha Raj|VIM-0010633|Vaniamkulam Grama...|Premalatha A P|      6-MANISSERI|             null|          6/843|       Open|Srushti  wellness...|        House|   Bhavana  subhash|          1|          For rent|Nisha  raj,Srusht...|  10.7739758|  76.3391606|           Nisha Raj|                    636XXXX027|        9000000000|      No Ration Card|\n",
            "| VIM-006-000638|       Ramajayam|VIM-0010634|Vaniamkulam Grama...|Premalatha A P|      6-MANISSERI|             null|          06-00|       Open|Vadakoott  appart...|        House|               null|          1|               Own|Ramajayam,Vadakoo...|  10.7745853|   76.339393|           Ramajayam|                    638XXXX334|        9000000000|      No Ration Card|\n",
            "| VIM-014-000475|          Geetha|VIM-0010975|Vaniamkulam Grama...|        Jaya P|     14-THRANGALI|             null|           14/0|       Open|     Mazhancheripadi|        House|               null|          1|               Own|     Trangali,679523|-39.90971437| 14.23826583|              Geetha|                    984XXXX729|        1900000000|PHH - Priority Ho...|\n",
            "| VIM-006-000637|         Indhira|VIM-0011059|Vaniamkulam Grama...|Premalatha A P|      6-MANISSERI|             null|          6/227|       Open|      Pozhath mangat|        House|               null|          1|               Own|Pozhathmangatmani...|  10.7711781|  76.3431587|             Indhira|                    956XXXX447|              null|      Not Responding|\n",
            "| VIM-014-000474|        Sreejith|VIM-0010974|Vaniamkulam Grama...|        Jaya P|     14-THRANGALI|             null|           14/0|       Open|   Unikkattuparambil|        House|               null|          1|               Own|    Thrangali,679523|-39.23223263| 17.40232833|            Sreejith|                    900XXXX000|        1900000000|      No Ration Card|\n",
            "| VIM-006-000636|         Pradeep|VIM-0011078|Vaniamkulam Grama...|Premalatha A P|      6-MANISSERI|             null|          06-00|       Open|            Kalathil|        House|               null|          1|               Own|Kalathil,Manisser...|  10.7754473|  76.3433113|             Pradeep|                    953XXXX779|        1948059619|AAY - Antyodaya A...|\n",
            "| VIM-006-000635|          Sajini|VIM-0010697|Vaniamkulam Grama...|Premalatha A P|      6-MANISSERI|             null|          06-00|       Open|            Adwithya|        House|               null|          1|               Own| Adwithiya,Manissery| 10.76456939| 76.33927546|              Sajini|                    965XXXX594|          1.90E+11|      No Ration Card|\n",
            "| VIM-006-000634|       Rajeswari|VIM-0010696|Vaniamkulam Grama...|Premalatha A P|      6-MANISSERI|             null|          06-00|       Open|         Vrindavanam|        House|               null|          1|               Own|വൃന്ദവനാണ്,Manissery|  10.7677727|  76.3384283|           Rajeswari|                    940XXXX662|          1.90E+11|      No Ration Card|\n",
            "| VIM-002-000600|Unnikrishnannair|VIM-0010476|Vaniamkulam Grama...|     Sumathi S|        2-EDAKODE|             null|          2/674|       Open|             Dwaraka|        House|               null|          1|               Own|     Dwaraka,Edakkod|  10.7890348|  76.3244168|    Unnikrishnannair|                    996XXXX312|              null|      No Ration Card|\n",
            "| VIM-006-000633|           Leela|VIM-0011068|Vaniamkulam Grama...|Premalatha A P|      6-MANISSERI|             null|          06-00|       Open|          Palancheri|        House|               null|          1|               Own|Palancheri,Maniss...|   10.775915|  76.3436031|               Leela|                    984XXXX669|              null|      No Ration Card|\n",
            "+---------------+----------------+-----------+--------------------+--------------+-----------------+-----------------+---------------+-----------+--------------------+-------------+-------------------+-----------+------------------+--------------------+------------+------------+--------------------+------------------------------+------------------+--------------------+\n",
            "only showing top 20 rows\n",
            "\n"
          ]
        }
      ]
    },
    {
      "cell_type": "code",
      "source": [
        "#df_clean6 = df_clean5.replace(\"%[A-Za-z]%\",\"0\",subset=[\"PROPERTY_NUMBER\"])"
      ],
      "metadata": {
        "id": "ybLWEQeivS4C"
      },
      "execution_count": null,
      "outputs": []
    },
    {
      "cell_type": "code",
      "source": [
        "df_clean7 = df_date_clean.withColumn(\"PROPERTY_NUMBER\", regexp_replace(\"PROPERTY_NUMBER\", \"-\", \"/\"))"
      ],
      "metadata": {
        "id": "vUbN5jPPyjQw"
      },
      "execution_count": null,
      "outputs": []
    },
    {
      "cell_type": "code",
      "source": [
        "#df_clean7.createOrReplaceTempView(\"df_clean7\")\n",
        "#df_clean8 = spark.sql(\"SELECT * FROM df_clean7 WHERE PROPERTY_NUMBER NOT LIKE '%R%'\")\n",
        "#df_clean8.createOrReplaceTempView(\"df_clean8_view\")"
      ],
      "metadata": {
        "id": "HJriL4qTxTuu"
      },
      "execution_count": null,
      "outputs": []
    },
    {
      "cell_type": "code",
      "source": [],
      "metadata": {
        "id": "cIryBwqk3gQ8"
      },
      "execution_count": null,
      "outputs": []
    },
    {
      "cell_type": "code",
      "source": [
        "df_clean10 = df_clean7.sort(\"WARD\")"
      ],
      "metadata": {
        "id": "ZoqMbg0q3nty"
      },
      "execution_count": null,
      "outputs": []
    },
    {
      "cell_type": "code",
      "source": [
        "#The code snippet creates a new DataFrame df_clean11 from df_clean7, adding or modifying the PROPERTY_NUMBER column based on a condition.\n",
        "#Specifically, it checks the length of the value in the PROPERTY_NUMBER column.\n",
        "#If the length of PROPERTY_NUMBER is exactly 1, it replaces that value with 'X'.\n",
        "#If the length is not 1, it retains the original value in the PROPERTY_NUMBER column.\n",
        "#This is achieved using the when and otherwise functions from PySpark, which allow conditional transformations on DataFrame columns.\n",
        "\n",
        "\n",
        "df_clean11 = df_clean10.withColumn(\n",
        "    \"PROPERTY_NUMBER\",\n",
        "    when(length(col(\"PROPERTY_NUMBER\"))==1, 'X')\n",
        "    .otherwise(col(\"PROPERTY_NUMBER\"))\n",
        ")"
      ],
      "metadata": {
        "id": "BOY3ArFWgVgt"
      },
      "execution_count": null,
      "outputs": []
    },
    {
      "cell_type": "code",
      "source": [
        "#df_clean12 = df_clean10.filter(df_clean11.PROPERTY_NUMBER == 'X')"
      ],
      "metadata": {
        "id": "wlaFg5Bkx1O9"
      },
      "execution_count": null,
      "outputs": []
    },
    {
      "cell_type": "code",
      "source": [
        "df_clean13 = df_clean11.filter(df_clean11.PROPERTY_NUMBER != 'X')"
      ],
      "metadata": {
        "id": "pZFh7gcE0AN1"
      },
      "execution_count": null,
      "outputs": []
    },
    {
      "cell_type": "code",
      "source": [
        "#df_clean13.createOrReplaceTempView(\"df_clean13_view\")\n",
        "#df_clean14 = spark.sql(\"SELECT * FROM df_clean13_view WHERE WARD IS NOT NULL\")"
      ],
      "metadata": {
        "id": "lULA0Z9YZ1ly"
      },
      "execution_count": null,
      "outputs": []
    },
    {
      "cell_type": "code",
      "source": [
        "df_clean14 = df_clean13.filter(col(\"WARD\").isNotNull())"
      ],
      "metadata": {
        "id": "ulLKwINFaNKn"
      },
      "execution_count": null,
      "outputs": []
    },
    {
      "cell_type": "code",
      "source": [
        "df_clean14.show()"
      ],
      "metadata": {
        "colab": {
          "base_uri": "https://localhost:8080/"
        },
        "id": "dO43Uh9_adgY",
        "outputId": "275da20f-497b-40bc-84e7-c8a527e4a20f"
      },
      "execution_count": null,
      "outputs": [
        {
          "output_type": "stream",
          "name": "stdout",
          "text": [
            "+---------------+------------------+-----------+--------------------+-------------+---------+-----------------+---------------+-----------+--------------------+--------------------+-------------------+-----------+------------------+--------------------+------------+------------+--------------------+------------------------------+------------------+--------------------+\n",
            "|CUSTOMER_NUMBER|     CUSTOMER_NAME|    QR_CODE|        ORGANIZATION|SURVEYOR_NAME|     WARD|     TRADING_TYPE|PROPERTY_NUMBER|DOOR_STATUS|       PROPERTY_NAME|       PROPERTY_TYPE|PROPERTY_OWNER_NAME|TOTAL_HOUSE|PROPERTY_OWNERSHIP|             ADDRESS|    LATITUDE|   LONGITUDE|PROPERTY_TENANT_NAME|PROPERTY_TENANT_PHONE_NUMBER28|RATION_CARD_NUMBER|    RATION_CARD_TYPE|\n",
            "+---------------+------------------+-----------+--------------------+-------------+---------+-----------------+---------------+-----------+--------------------+--------------------+-------------------+-----------+------------------+--------------------+------------+------------+--------------------+------------------------------+------------------+--------------------+\n",
            "| VIM-001-000541|          Jayanthi|VIM-0010431|Vaniamkulam Grama...|  Sujitha C P|1-PANAYOR|             null|          19/01|       Open| Parola.krishnakripa|               House|               null|          1|               Own|Parola.krishnakai...|  10.7955419|  76.3089208|            Jayanthi|                    974XXXX308|        1948057233|NPNS - Non Priori...|\n",
            "| VIM-001-000520|          Susheela|VIM-0010393|Vaniamkulam Grama...|  Sujitha C P|1-PANAYOR|             null|          1/672|       Open|        Amrthasurabi|               House|               null|          1|               Own|Amrthasurabi,Pana...|  10.7900386|     76.3165|            Susheela|                    944XXXX396|              null|NPNS - Non Priori...|\n",
            "| VIM-001-000539|            Santha|VIM-0010421|Vaniamkulam Grama...|  Sujitha C P|1-PANAYOR|             null|            O/0|       Open|        Manjaprambil|               House|               null|          1|               Own|Manjaprambil,Pana...| 47.60757426|-122.3294394|              Santha|                    623XXXX206|              null|      No Ration Card|\n",
            "| VIM-001-000549|            Vinodh|VIM-0010560|Vaniamkulam Grama...|  Sujitha C P|1-PANAYOR|             null|          1/326|       Open|          Kozhithodi|               House|               null|          1|               Own|Kozhithodi,Panayu...|  10.7869636|  76.3230028|              Vinodh|                    974XXXX137|        9744793137|NPS - Non Priorit...|\n",
            "| VIM-001-000538|             Salvi|VIM-0010559|Vaniamkulam Grama...|  Sujitha C P|1-PANAYOR|             null|          1/771|       Open| Kizhakathala angadi|               House|               null|          1|               Own|Vaniyamkulam,Pana...|  10.7915896|  76.3203737|               Salvi|                    965XXXX605|        1948218431|PHH - Priority Ho...|\n",
            "| VIM-001-000533|           Naseema|VIM-0010406|Vaniamkulam Grama...|  Sujitha C P|1-PANAYOR|             null|          1/699|       Open|            Cholayil|               House|               null|          1|               Own|Naseema,Cholayil,...|  10.7904191|   76.317233|             Naseema|                    974XXXX483|        1948246224|NPNS - Non Priori...|\n",
            "| VIM-001-000532|             Vinod|VIM-0010597|Vaniamkulam Grama...|  Sujitha C P|1-PANAYOR|             null|          1/193|       Open|      Puthenthodiyil|               House|               null|          1|               Own|Puthenthodiyil ho...|  10.7862988|  76.3251945|               Vinod|                    965XXXX863|              null|      No Ration Card|\n",
            "| VIM-001-000548|             Balan|VIM-0010522|Vaniamkulam Grama...|  Sujitha C P|1-PANAYOR|Stationery Stores|          1/426|       Open|          M. T store|                Shop|        Gangadheran|          1|              Rent|M. T store,Vaniya...| 10.78720987| 76.31730214|               Balan|                    900XXXX000|              null|                null|\n",
            "| VIM-001-000531|         Sathidavi|VIM-0006632|Vaniamkulam Grama...|  Sujitha C P|1-PANAYOR|             null|          1/216|       Open|             Mudulli|               House|               null|          1|               Own|Mundulli,Panayur,...|  10.7901933|  76.3196073|           Sathidavi|                    996XXXX237|        1948175174|AAY - Antyodaya A...|\n",
            "| VIM-001-000544|      Santhakumari|VIM-0008831|Vaniamkulam Grama...|  Sujitha C P|1-PANAYOR|             null|          1/255|       Open|Manayankath puthe...|               House|               null|          1|               Own|Manayankath puthe...|   10.789425|  76.3211539|        Santhakumari|                    974XXXX871|        1948057137|NPNS - Non Priori...|\n",
            "| VIM-001-000529|           Sushila|VIM-0010373|Vaniamkulam Grama...|  Sujitha C P|1-PANAYOR|             null|          1/218|       Open|       Moorithodiyil|               House|               null|          1|               Own|Morithodiyil,Pana...|  10.7901617|  76.3196046|             Sushila|                    860XXXX528|        1948057354|NPNS - Non Priori...|\n",
            "| VIM-001-000550|     Vijayalakshmi|VIM-0010912|Vaniamkulam Grama...|  Sujitha C P|1-PANAYOR|     Fruits Store|          01/00|       Open|          Thattukada|                Shop|             Sabira|          1|              Rent|Vijayalakshmi ,Pe...|  10.7801565|  76.3251759|       Vijayalakshmi|                    953XXXX931|              null|                null|\n",
            "| VIM-001-000528|          Mutuhaji|VIM-0007381|Vaniamkulam Grama...|  Sujitha C P|1-PANAYOR|             null|          1/550|       null|Manu musliyar isl...|Religious Institu...|               null|          1|               Own|Manu musliyar isl...|-37.82279502| 18.45702253|            Mutuhaji|                    944XXXX748|              null|                null|\n",
            "| VIM-001-000537|             Latha|VIM-0010471|Vaniamkulam Grama...|  Sujitha C P|1-PANAYOR|             null|          1/475|       Open|        Alikkaparamb|               House|        Pramakumari|          1|          For rent|Alikaparamb,Panay...|  10.7855741|  76.3164429|               Latha|                    859XXXX454|             O0000|PHH - Priority Ho...|\n",
            "| VIM-001-000527|Shyamalaravindhran|VIM-0010392|Vaniamkulam Grama...|  Sujitha C P|1-PANAYOR|             null|          1/308|       Open|            Anugraha|               House|               null|          1|               Own|Anugraha,Panayur,...|  10.7870419|  76.3221751|  Shyamalaravindhran|                    918XXXX350|        1948177617|NPNS - Non Priori...|\n",
            "| VIM-001-000535|        Kamaladavi|VIM-0006615|Vaniamkulam Grama...|  Sujitha C P|1-PANAYOR|             null|          1/309|       Open|           Kallinkal|               House|               null|          1|               Own|Kallinkal,Panayur...|  10.7871321|  76.3223003|          Kamaladavi|                    859XXXX245|        1948058301|PHH - Priority Ho...|\n",
            "| VIM-001-000526|            Nalini|VIM-0010391|Vaniamkulam Grama...|  Sujitha C P|1-PANAYOR|             null|          1/593|       Open|    Kalathumpadikkal|               House|               null|          1|               Own|Kalathumpadikkal,...|  10.7897018|  76.3232921|              Nalini|                    703XXXX505|        1948058077|PHH - Priority Ho...|\n",
            "| VIM-001-000521|              Vesa|VIM-0010576|Vaniamkulam Grama...|  Sujitha C P|1-PANAYOR|             null|          1/583|       Open|   Thottappalliyalil|               House|               null|          1|               Own|Thottappalliyalil...|  10.7871008|  76.3277275|                Vesa|                    956XXXX747|              null|      No Ration Card|\n",
            "| VIM-001-000525|          Vasantha|VIM-0010462|Vaniamkulam Grama...|  Sujitha C P|1-PANAYOR|             null|          1/683|       Open|           Vasantham|               House|               null|          1|               Own|Vasantham,Vaniyam...|  10.7823797|  76.3240765|            Vasantha|                    963XXXX977|              null|      No Ration Card|\n",
            "| VIM-001-000543|          Mohandas|VIM-0010503|Vaniamkulam Grama...|  Sujitha C P|1-PANAYOR|             null|          1/454|       Open|       Puthanveettil|               House|               null|          1|               Own|Mohandas,Puthanve...| 47.60812377|-122.3305767|            Mohandas|                    904XXXX014|              null|      No Ration Card|\n",
            "+---------------+------------------+-----------+--------------------+-------------+---------+-----------------+---------------+-----------+--------------------+--------------------+-------------------+-----------+------------------+--------------------+------------+------------+--------------------+------------------------------+------------------+--------------------+\n",
            "only showing top 20 rows\n",
            "\n"
          ]
        }
      ]
    },
    {
      "cell_type": "code",
      "source": [
        "df_clean14.select(\"PROPERTY_TYPE\").distinct().show()"
      ],
      "metadata": {
        "id": "GKUF4FC5xo31",
        "colab": {
          "base_uri": "https://localhost:8080/"
        },
        "outputId": "7d8e2b3c-6071-4e09-b515-0e9c1e8eb248"
      },
      "execution_count": null,
      "outputs": [
        {
          "output_type": "stream",
          "name": "stdout",
          "text": [
            "+--------------------+\n",
            "|       PROPERTY_TYPE|\n",
            "+--------------------+\n",
            "|       Public Toilet|\n",
            "|Health Care Insti...|\n",
            "|              Office|\n",
            "|                Flat|\n",
            "|                Shop|\n",
            "|Poultry/ Slaughte...|\n",
            "|Religious Institu...|\n",
            "|        Saloon / Spa|\n",
            "|               House|\n",
            "|       Lodge/ Hostel|\n",
            "| Hotel & Food Courts|\n",
            "|Educational Insti...|\n",
            "|          Auditorium|\n",
            "+--------------------+\n",
            "\n"
          ]
        }
      ]
    },
    {
      "cell_type": "code",
      "source": [
        "customers_final = df_clean14.withColumn(\"FEE_AMNT\", when(df_clean14.PROPERTY_TYPE == 'House', 50).otherwise('100'))"
      ],
      "metadata": {
        "id": "fUOIg9bLUpi5"
      },
      "execution_count": null,
      "outputs": []
    },
    {
      "cell_type": "code",
      "source": [
        "#customers_final.repartition(1).write.mode(\"overwrite\").option(\"header\",\"true\").csv(f\"/content/drive/MyDrive/Projects/HKS/customers_final.csv\")"
      ],
      "metadata": {
        "id": "gQxZFfA5Vff1"
      },
      "execution_count": null,
      "outputs": []
    },
    {
      "cell_type": "code",
      "source": [
        "customers_final.repartition(1) \\\n",
        "    .write \\\n",
        "    .mode(\"overwrite\") \\\n",
        "    .format(\"csv\") \\\n",
        "    .option(\"header\", \"true\") \\\n",
        "    .option(\"path\", \"/content/drive/MyDrive/Projects/HKS/customers_final\") \\\n",
        "    .save()"
      ],
      "metadata": {
        "id": "7cmyo4M8XrZs"
      },
      "execution_count": null,
      "outputs": []
    },
    {
      "cell_type": "code",
      "source": [],
      "metadata": {
        "id": "Hslat6SfbK8u"
      },
      "execution_count": null,
      "outputs": []
    }
  ]
}
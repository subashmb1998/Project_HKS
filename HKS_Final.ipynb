{
  "nbformat": 4,
  "nbformat_minor": 0,
  "metadata": {
    "colab": {
      "provenance": [],
      "mount_file_id": "1CUDTImD3_aRGJJ7bg_c95tjrbNtGw9cX",
      "authorship_tag": "ABX9TyNOwn+ycZOwR3XxVMe7TLP0",
      "include_colab_link": true
    },
    "kernelspec": {
      "name": "python3",
      "display_name": "Python 3"
    },
    "language_info": {
      "name": "python"
    }
  },
  "cells": [
    {
      "cell_type": "markdown",
      "metadata": {
        "id": "view-in-github",
        "colab_type": "text"
      },
      "source": [
        "<a href=\"https://colab.research.google.com/github/subashmb1998/Project_HKS/blob/main/HKS_Final.ipynb\" target=\"_parent\"><img src=\"https://colab.research.google.com/assets/colab-badge.svg\" alt=\"Open In Colab\"/></a>"
      ]
    },
    {
      "cell_type": "code",
      "execution_count": null,
      "metadata": {
        "id": "-l5RGdwVTTRB",
        "colab": {
          "base_uri": "https://localhost:8080/",
          "height": 219
        },
        "outputId": "894f06c9-312d-44c2-bf6b-002580812cfc"
      },
      "outputs": [
        {
          "output_type": "execute_result",
          "data": {
            "text/plain": [
              "<pyspark.sql.session.SparkSession at 0x7df374125a80>"
            ],
            "text/html": [
              "\n",
              "            <div>\n",
              "                <p><b>SparkSession - in-memory</b></p>\n",
              "                \n",
              "        <div>\n",
              "            <p><b>SparkContext</b></p>\n",
              "\n",
              "            <p><a href=\"http://19a79a03d458:4040\">Spark UI</a></p>\n",
              "\n",
              "            <dl>\n",
              "              <dt>Version</dt>\n",
              "                <dd><code>v3.1.2</code></dd>\n",
              "              <dt>Master</dt>\n",
              "                <dd><code>local[*]</code></dd>\n",
              "              <dt>AppName</dt>\n",
              "                <dd><code>colab</code></dd>\n",
              "            </dl>\n",
              "        </div>\n",
              "        \n",
              "            </div>\n",
              "        "
            ]
          },
          "metadata": {},
          "execution_count": 1
        }
      ],
      "source": [
        "# Install Java\n",
        "!apt-get install openjdk-8-jdk-headless -qq > /dev/null\n",
        "\n",
        "# Install Spark\n",
        "!wget -q https://archive.apache.org/dist/spark/spark-3.1.2/spark-3.1.2-bin-hadoop2.7.tgz\n",
        "!tar xf spark-3.1.2-bin-hadoop2.7.tgz\n",
        "!rm spark-3.1.2-bin-hadoop2.7.tgz\n",
        "\n",
        "# Install findspark\n",
        "!pip install -q findspark\n",
        "\n",
        "# Set environment variables\n",
        "import os\n",
        "os.environ[\"JAVA_HOME\"] = \"/usr/lib/jvm/java-8-openjdk-amd64\"\n",
        "os.environ[\"SPARK_HOME\"] = \"/content/spark-3.1.2-bin-hadoop2.7\"\n",
        "\n",
        "# Initialize findspark\n",
        "import findspark\n",
        "findspark.init()\n",
        "\n",
        "# Verify the installation\n",
        "from pyspark.sql import SparkSession\n",
        "spark = SparkSession.builder.master(\"local[*]\").appName(\"colab\").getOrCreate()\n",
        "spark"
      ]
    },
    {
      "cell_type": "code",
      "source": [
        "from google.colab import drive\n",
        "drive.mount('/content/drive')"
      ],
      "metadata": {
        "colab": {
          "base_uri": "https://localhost:8080/"
        },
        "id": "7p2fRt6BxFgZ",
        "outputId": "34321ff0-bf54-4ee7-b62d-aab5139b5e94"
      },
      "execution_count": null,
      "outputs": [
        {
          "output_type": "stream",
          "name": "stdout",
          "text": [
            "Drive already mounted at /content/drive; to attempt to forcibly remount, call drive.mount(\"/content/drive\", force_remount=True).\n"
          ]
        }
      ]
    },
    {
      "cell_type": "code",
      "source": [
        "customers = spark.read \\\n",
        "    .format(\"csv\") \\\n",
        "    .option(\"header\", \"true\") \\\n",
        "    .option(\"inferSchema\", \"true\") \\\n",
        "    .load(\"/content/drive/MyDrive/Projects/HKS/customers_final/part-00000-3f77b9bb-3b44-4b0c-9668-b6395254a47d-c000.csv\")\n",
        "\n",
        "customers.show()"
      ],
      "metadata": {
        "colab": {
          "base_uri": "https://localhost:8080/"
        },
        "id": "y-Uvpp0zTqaI",
        "outputId": "859dc953-31e0-4ffa-ff02-2b3119572114"
      },
      "execution_count": null,
      "outputs": [
        {
          "output_type": "stream",
          "name": "stdout",
          "text": [
            "+---------------+------------------+-----------+--------------------+-------------+---------+-----------------+---------------+-----------+--------------------+--------------------+-------------------+-----------+------------------+--------------------+------------+------------+--------------------+------------------------------+------------------+--------------------+--------+\n",
            "|CUSTOMER_NUMBER|     CUSTOMER_NAME|    QR_CODE|        ORGANIZATION|SURVEYOR_NAME|     WARD|     TRADING_TYPE|PROPERTY_NUMBER|DOOR_STATUS|       PROPERTY_NAME|       PROPERTY_TYPE|PROPERTY_OWNER_NAME|TOTAL_HOUSE|PROPERTY_OWNERSHIP|             ADDRESS|    LATITUDE|   LONGITUDE|PROPERTY_TENANT_NAME|PROPERTY_TENANT_PHONE_NUMBER28|RATION_CARD_NUMBER|    RATION_CARD_TYPE|FEE_AMNT|\n",
            "+---------------+------------------+-----------+--------------------+-------------+---------+-----------------+---------------+-----------+--------------------+--------------------+-------------------+-----------+------------------+--------------------+------------+------------+--------------------+------------------------------+------------------+--------------------+--------+\n",
            "| VIM-001-000550|     Vijayalakshmi|VIM-0010912|Vaniamkulam Grama...|  Sujitha C P|1-PANAYOR|     Fruits Store|          01/00|       Open|          Thattukada|                Shop|             Sabira|          1|              Rent|Vijayalakshmi ,Pe...|  10.7801565|  76.3251759|       Vijayalakshmi|                    953XXXX931|              null|                null|     100|\n",
            "| VIM-001-000549|            Vinodh|VIM-0010560|Vaniamkulam Grama...|  Sujitha C P|1-PANAYOR|             null|          1/326|       Open|          Kozhithodi|               House|               null|          1|               Own|Kozhithodi,Panayu...|  10.7869636|  76.3230028|              Vinodh|                    974XXXX137|        9744793137|NPS - Non Priorit...|      50|\n",
            "| VIM-001-000548|             Balan|VIM-0010522|Vaniamkulam Grama...|  Sujitha C P|1-PANAYOR|Stationery Stores|          1/426|       Open|          M. T store|                Shop|        Gangadheran|          1|              Rent|M. T store,Vaniya...| 10.78720987| 76.31730214|               Balan|                    900XXXX000|              null|                null|     100|\n",
            "| VIM-001-000545|       Vishalakshi|VIM-0010315|Vaniamkulam Grama...|  Sujitha C P|1-PANAYOR|             null|          1/373|       Open|     Meenakshi bavan|               House|               null|          1|               Own|Meenakshi bavan,P...|  10.7868659|  76.3229725|         Vishalakshi|                    994XXXX686|        1948205203|AAY - Antyodaya A...|      50|\n",
            "| VIM-001-000544|      Santhakumari|VIM-0008831|Vaniamkulam Grama...|  Sujitha C P|1-PANAYOR|             null|          1/255|       Open|Manayankath puthe...|               House|               null|          1|               Own|Manayankath puthe...|   10.789425|  76.3211539|        Santhakumari|                    974XXXX871|        1948057137|NPNS - Non Priori...|      50|\n",
            "| VIM-001-000543|          Mohandas|VIM-0010503|Vaniamkulam Grama...|  Sujitha C P|1-PANAYOR|             null|          1/454|       Open|       Puthanveettil|               House|               null|          1|               Own|Mohandas,Puthanve...| 47.60812377|-122.3305767|            Mohandas|                    904XXXX014|              null|      No Ration Card|      50|\n",
            "| VIM-001-000542|    Narayanankutty|VIM-0010345|Vaniamkulam Grama...|  Sujitha C P|1-PANAYOR|             null|          1/213|       Open|  Moochikkal kattiri|               House|               null|          1|               Own|Moochikkal kattir...|  10.7900883|  76.3194725|      Narayanankutty|                    974XXXX296|        1948230061|NPNS - Non Priori...|      50|\n",
            "| VIM-001-000541|          Jayanthi|VIM-0010431|Vaniamkulam Grama...|  Sujitha C P|1-PANAYOR|             null|          19/01|       Open| Parola.krishnakripa|               House|               null|          1|               Own|Parola.krishnakai...|  10.7955419|  76.3089208|            Jayanthi|                    974XXXX308|        1948057233|NPNS - Non Priori...|      50|\n",
            "| VIM-001-000539|            Santha|VIM-0010421|Vaniamkulam Grama...|  Sujitha C P|1-PANAYOR|             null|            O/0|       Open|        Manjaprambil|               House|               null|          1|               Own|Manjaprambil,Pana...| 47.60757426|-122.3294394|              Santha|                    623XXXX206|              null|      No Ration Card|      50|\n",
            "| VIM-001-000538|             Salvi|VIM-0010559|Vaniamkulam Grama...|  Sujitha C P|1-PANAYOR|             null|          1/771|       Open| Kizhakathala angadi|               House|               null|          1|               Own|Vaniyamkulam,Pana...|  10.7915896|  76.3203737|               Salvi|                    965XXXX605|        1948218431|PHH - Priority Ho...|      50|\n",
            "| VIM-001-000537|             Latha|VIM-0010471|Vaniamkulam Grama...|  Sujitha C P|1-PANAYOR|             null|          1/475|       Open|        Alikkaparamb|               House|        Pramakumari|          1|          For rent|Alikaparamb,Panay...|  10.7855741|  76.3164429|               Latha|                    859XXXX454|             O0000|PHH - Priority Ho...|      50|\n",
            "| VIM-001-000536|       Shamsudheen|VIM-0010340|Vaniamkulam Grama...|  Sujitha C P|1-PANAYOR|             null|          01/00|       Open|         Kelathveede|               House|               null|          1|               Own|         Shamsudheen|-39.74098017| 12.87596952|         Shamsudheen|                    807XXXX820|              null|      No Ration Card|      50|\n",
            "| VIM-001-000535|        Kamaladavi|VIM-0006615|Vaniamkulam Grama...|  Sujitha C P|1-PANAYOR|             null|          1/309|       Open|           Kallinkal|               House|               null|          1|               Own|Kallinkal,Panayur...|  10.7871321|  76.3223003|          Kamaladavi|                    859XXXX245|        1948058301|PHH - Priority Ho...|      50|\n",
            "| VIM-001-000534|      Unnikrishnan|VIM-0007351|Vaniamkulam Grama...|  Sujitha C P|1-PANAYOR|             null|          01/00|       Open|        Thayyilthodi|               House|               null|          1|               Own|Unnikrishnan,Thay...|-35.35320926|  24.5195096|        Unnikrishnan|                    996XXXX213|              null|      No Ration Card|      50|\n",
            "| VIM-001-000533|           Naseema|VIM-0010406|Vaniamkulam Grama...|  Sujitha C P|1-PANAYOR|             null|          1/699|       Open|            Cholayil|               House|               null|          1|               Own|Naseema,Cholayil,...|  10.7904191|   76.317233|             Naseema|                    974XXXX483|        1948246224|NPNS - Non Priori...|      50|\n",
            "| VIM-001-000532|             Vinod|VIM-0010597|Vaniamkulam Grama...|  Sujitha C P|1-PANAYOR|             null|          1/193|       Open|      Puthenthodiyil|               House|               null|          1|               Own|Puthenthodiyil ho...|  10.7862988|  76.3251945|               Vinod|                    965XXXX863|              null|      No Ration Card|      50|\n",
            "| VIM-001-000531|         Sathidavi|VIM-0006632|Vaniamkulam Grama...|  Sujitha C P|1-PANAYOR|             null|          1/216|       Open|             Mudulli|               House|               null|          1|               Own|Mundulli,Panayur,...|  10.7901933|  76.3196073|           Sathidavi|                    996XXXX237|        1948175174|AAY - Antyodaya A...|      50|\n",
            "| VIM-001-000529|           Sushila|VIM-0010373|Vaniamkulam Grama...|  Sujitha C P|1-PANAYOR|             null|          1/218|       Open|       Moorithodiyil|               House|               null|          1|               Own|Morithodiyil,Pana...|  10.7901617|  76.3196046|             Sushila|                    860XXXX528|        1948057354|NPNS - Non Priori...|      50|\n",
            "| VIM-001-000528|          Mutuhaji|VIM-0007381|Vaniamkulam Grama...|  Sujitha C P|1-PANAYOR|             null|          1/550|       null|Manu musliyar isl...|Religious Institu...|               null|          1|               Own|Manu musliyar isl...|-37.82279502| 18.45702253|            Mutuhaji|                    944XXXX748|              null|                null|     100|\n",
            "| VIM-001-000527|Shyamalaravindhran|VIM-0010392|Vaniamkulam Grama...|  Sujitha C P|1-PANAYOR|             null|          1/308|       Open|            Anugraha|               House|               null|          1|               Own|Anugraha,Panayur,...|  10.7870419|  76.3221751|  Shyamalaravindhran|                    918XXXX350|        1948177617|NPNS - Non Priori...|      50|\n",
            "+---------------+------------------+-----------+--------------------+-------------+---------+-----------------+---------------+-----------+--------------------+--------------------+-------------------+-----------+------------------+--------------------+------------+------------+--------------------+------------------------------+------------------+--------------------+--------+\n",
            "only showing top 20 rows\n",
            "\n"
          ]
        }
      ]
    },
    {
      "cell_type": "code",
      "source": [
        "from pyspark.sql.types import *"
      ],
      "metadata": {
        "id": "rb4Gt75EsAJD"
      },
      "execution_count": null,
      "outputs": []
    },
    {
      "cell_type": "code",
      "source": [
        "schema = StructType([\n",
        "    StructField(\"CUSTOMER_NUM\", StringType(), True),\n",
        "    StructField(\"BUILDING_NUMBER\", StringType(), True),\n",
        "    StructField(\"PENDING_MONTHS\", IntegerType(), True)\n",
        "])"
      ],
      "metadata": {
        "id": "gnqRlMiknyyb"
      },
      "execution_count": null,
      "outputs": []
    },
    {
      "cell_type": "code",
      "source": [
        "payment = spark.read \\\n",
        "    .format(\"csv\") \\\n",
        "    .option(\"header\", \"true\") \\\n",
        "    .schema(schema) \\\n",
        "    .load(\"/content/drive/MyDrive/Projects/HKS/Pending_Payment_final/part-00000-a57da900-ba8f-41c6-adc2-fc63def99072-c000.csv\")\n",
        "\n",
        "payment.show()"
      ],
      "metadata": {
        "colab": {
          "base_uri": "https://localhost:8080/"
        },
        "id": "CRxbpU6llOuK",
        "outputId": "2cce8f63-f0eb-4d02-96cd-08a830da8cda"
      },
      "execution_count": null,
      "outputs": [
        {
          "output_type": "stream",
          "name": "stdout",
          "text": [
            "+--------------+---------------+--------------+\n",
            "|  CUSTOMER_NUM|BUILDING_NUMBER|PENDING_MONTHS|\n",
            "+--------------+---------------+--------------+\n",
            "|VIM-001-000218|          1/135|             2|\n",
            "|VIM-003-000447|          3/155|             2|\n",
            "|VIM-004-000044|         4/1283|             7|\n",
            "|VIM-004-000429|            4/0|             2|\n",
            "|VIM-004-000927|            4/0|             1|\n",
            "|VIM-005-000122|          5/168|             3|\n",
            "|VIM-005-000431|            5/0|             1|\n",
            "|VIM-005-000660|          5/814|             2|\n",
            "|VIM-007-000010|          7/762|             3|\n",
            "|VIM-007-000120|          7/000|             1|\n",
            "|VIM-007-000484|          7/670|             1|\n",
            "|VIM-007-000546|           7/52|             1|\n",
            "|VIM-007-000696|              7|             1|\n",
            "|VIM-008-000413|          8/178|             1|\n",
            "|VIM-013-000052|          13/77|             2|\n",
            "|VIM-013-000270|         13/420|             5|\n",
            "|VIM-015-000277|         15/367|             1|\n",
            "|VIM-015-000449|         15/795|             3|\n",
            "|VIM-017-000009|         17/120|             1|\n",
            "|VIM-017-000179|         17/125|             2|\n",
            "+--------------+---------------+--------------+\n",
            "only showing top 20 rows\n",
            "\n"
          ]
        }
      ]
    },
    {
      "cell_type": "code",
      "source": [
        "payment_pending_customers = customers.join(payment, customers.CUSTOMER_NUMBER == payment.CUSTOMER_NUM)\n",
        "\n",
        "payment_pending_customers.show()"
      ],
      "metadata": {
        "colab": {
          "base_uri": "https://localhost:8080/"
        },
        "id": "7XBrl8dYmT_K",
        "outputId": "90f542df-0d75-4fe8-f267-690e92490f7c"
      },
      "execution_count": null,
      "outputs": [
        {
          "output_type": "stream",
          "name": "stdout",
          "text": [
            "+---------------+-------------+-----------+--------------------+-------------+---------+-----------------+---------------+-----------+--------------------+--------------------+-------------------+-----------+------------------+--------------------+------------+-----------+--------------------+------------------------------+------------------+--------------------+--------+--------------+---------------+--------------+\n",
            "|CUSTOMER_NUMBER|CUSTOMER_NAME|    QR_CODE|        ORGANIZATION|SURVEYOR_NAME|     WARD|     TRADING_TYPE|PROPERTY_NUMBER|DOOR_STATUS|       PROPERTY_NAME|       PROPERTY_TYPE|PROPERTY_OWNER_NAME|TOTAL_HOUSE|PROPERTY_OWNERSHIP|             ADDRESS|    LATITUDE|  LONGITUDE|PROPERTY_TENANT_NAME|PROPERTY_TENANT_PHONE_NUMBER28|RATION_CARD_NUMBER|    RATION_CARD_TYPE|FEE_AMNT|  CUSTOMER_NUM|BUILDING_NUMBER|PENDING_MONTHS|\n",
            "+---------------+-------------+-----------+--------------------+-------------+---------+-----------------+---------------+-----------+--------------------+--------------------+-------------------+-----------+------------------+--------------------+------------+-----------+--------------------+------------------------------+------------------+--------------------+--------+--------------+---------------+--------------+\n",
            "| VIM-001-000550|Vijayalakshmi|VIM-0010912|Vaniamkulam Grama...|  Sujitha C P|1-PANAYOR|     Fruits Store|          01/00|       Open|          Thattukada|                Shop|             Sabira|          1|              Rent|Vijayalakshmi ,Pe...|  10.7801565| 76.3251759|       Vijayalakshmi|                    953XXXX931|              null|                null|     100|VIM-001-000550|            1/0|             1|\n",
            "| VIM-001-000548|        Balan|VIM-0010522|Vaniamkulam Grama...|  Sujitha C P|1-PANAYOR|Stationery Stores|          1/426|       Open|          M. T store|                Shop|        Gangadheran|          1|              Rent|M. T store,Vaniya...| 10.78720987|76.31730214|               Balan|                    900XXXX000|              null|                null|     100|VIM-001-000548|          1/426|             2|\n",
            "| VIM-001-000538|        Salvi|VIM-0010559|Vaniamkulam Grama...|  Sujitha C P|1-PANAYOR|             null|          1/771|       Open| Kizhakathala angadi|               House|               null|          1|               Own|Vaniyamkulam,Pana...|  10.7915896| 76.3203737|               Salvi|                    965XXXX605|        1948218431|PHH - Priority Ho...|      50|VIM-001-000538|          1/771|             4|\n",
            "| VIM-001-000537|        Latha|VIM-0010471|Vaniamkulam Grama...|  Sujitha C P|1-PANAYOR|             null|          1/475|       Open|        Alikkaparamb|               House|        Pramakumari|          1|          For rent|Alikaparamb,Panay...|  10.7855741| 76.3164429|               Latha|                    859XXXX454|             O0000|PHH - Priority Ho...|      50|VIM-001-000537|          1/475|             1|\n",
            "| VIM-001-000536|  Shamsudheen|VIM-0010340|Vaniamkulam Grama...|  Sujitha C P|1-PANAYOR|             null|          01/00|       Open|         Kelathveede|               House|               null|          1|               Own|         Shamsudheen|-39.74098017|12.87596952|         Shamsudheen|                    807XXXX820|              null|      No Ration Card|      50|VIM-001-000536|            1/0|             1|\n",
            "| VIM-001-000535|   Kamaladavi|VIM-0006615|Vaniamkulam Grama...|  Sujitha C P|1-PANAYOR|             null|          1/309|       Open|           Kallinkal|               House|               null|          1|               Own|Kallinkal,Panayur...|  10.7871321| 76.3223003|          Kamaladavi|                    859XXXX245|        1948058301|PHH - Priority Ho...|      50|VIM-001-000535|          1/309|             3|\n",
            "| VIM-001-000534| Unnikrishnan|VIM-0007351|Vaniamkulam Grama...|  Sujitha C P|1-PANAYOR|             null|          01/00|       Open|        Thayyilthodi|               House|               null|          1|               Own|Unnikrishnan,Thay...|-35.35320926| 24.5195096|        Unnikrishnan|                    996XXXX213|              null|      No Ration Card|      50|VIM-001-000534|            1/0|             2|\n",
            "| VIM-001-000532|        Vinod|VIM-0010597|Vaniamkulam Grama...|  Sujitha C P|1-PANAYOR|             null|          1/193|       Open|      Puthenthodiyil|               House|               null|          1|               Own|Puthenthodiyil ho...|  10.7862988| 76.3251945|               Vinod|                    965XXXX863|              null|      No Ration Card|      50|VIM-001-000532|          1/193|             3|\n",
            "| VIM-001-000528|     Mutuhaji|VIM-0007381|Vaniamkulam Grama...|  Sujitha C P|1-PANAYOR|             null|          1/550|       null|Manu musliyar isl...|Religious Institu...|               null|          1|               Own|Manu musliyar isl...|-37.82279502|18.45702253|            Mutuhaji|                    944XXXX748|              null|                null|     100|VIM-001-000528|          1/550|             5|\n",
            "| VIM-001-000526|       Nalini|VIM-0010391|Vaniamkulam Grama...|  Sujitha C P|1-PANAYOR|             null|          1/593|       Open|    Kalathumpadikkal|               House|               null|          1|               Own|Kalathumpadikkal,...|  10.7897018| 76.3232921|              Nalini|                    703XXXX505|        1948058077|PHH - Priority Ho...|      50|VIM-001-000526|          1/593|             3|\n",
            "| VIM-001-000524|   Manikandan|VIM-0010577|Vaniamkulam Grama...|  Sujitha C P|1-PANAYOR|             null|          1/136|       Open|        Ottuparakkal|               House|               null|          1|               Own|Ottuparakkal ho,P...|  10.7919586| 76.3208519|          Manikandan|                    815XXXX126|        1948238102|PHH - Priority Ho...|      50|VIM-001-000524|          1/136|             3|\n",
            "| VIM-001-000523|       Ramani|VIM-0010405|Vaniamkulam Grama...|  Sujitha C P|1-PANAYOR|             null|          1/128|       Open|        Veetuvalapil|               House|               null|          1|               Own|Veetuvalapil,Pana...|  10.7951979| 76.3174937|              Ramani|                    984XXXX381|        1948057657|PHH - Priority Ho...|      50|VIM-001-000523|          1/128|             1|\n",
            "| VIM-001-000521|         Vesa|VIM-0010576|Vaniamkulam Grama...|  Sujitha C P|1-PANAYOR|             null|          1/583|       Open|   Thottappalliyalil|               House|               null|          1|               Own|Thottappalliyalil...|  10.7871008| 76.3277275|                Vesa|                    956XXXX747|              null|      No Ration Card|      50|VIM-001-000521|          1/583|             6|\n",
            "| VIM-001-000518|    Bindhumol|VIM-0010394|Vaniamkulam Grama...|  Sujitha C P|1-PANAYOR|             null|          01/00|       Open|    Naranghaparambil|               House|               null|          1|               Own|Naranghaparambil,...|  10.7925055| 76.3099949|           Bindhumol|                    956XXXX286|        1948246125|PHH - Priority Ho...|      50|VIM-001-000518|            1/0|             1|\n",
            "| VIM-001-000517|     Vasantha|VIM-0010395|Vaniamkulam Grama...|  Sujitha C P|1-PANAYOR|             null|          1/780|       Open|Arikkathodi  parolil|               House|               null|          1|               Own|Arikkathodi parol...|   10.786315|  76.315985|            Vasantha|                    970XXXX190|              null|NPNS - Non Priori...|      50|VIM-001-000517|          1/780|             1|\n",
            "| VIM-001-000513|        Bindu|VIM-0010770|Vaniamkulam Grama...|  Sujitha C P|1-PANAYOR|             null|          1/200|       Open|           Elikottil|               House|               null|          1|               Own|     Bindu,Elikottil|-40.44694145| 16.2597549|               Bindu|                    984XXXX725|        1948057322|NPNS - Non Priori...|      50|VIM-001-000513|          1/200|             6|\n",
            "| VIM-001-000511|      Bargavi|VIM-0010759|Vaniamkulam Grama...|  Sujitha C P|1-PANAYOR|             null|          1/278|       Open|         Kanappattil|               House|               null|          1|               Own|Bargavi,Kanappatt...|-42.42346741|11.60156284|             Bargavi|                    996XXXX411|        1948057207|PHH - Priority Ho...|      50|VIM-001-000511|          1/278|             1|\n",
            "| VIM-001-000509|  Gangadharan|VIM-0009833|Vaniamkulam Grama...|  Sujitha C P|1-PANAYOR|             null|          1/626|       Open|       Moorithodiyil|               House|               null|          1|               Own|Moorithodiyil ho,...|  10.7881862| 76.3187513|         Gangadharan|                    974XXXX805|        1948057217|PHH - Priority Ho...|      50|VIM-001-000509|          1/626|             1|\n",
            "| VIM-001-000508|  Jayaprakash|VIM-0009842|Vaniamkulam Grama...|  Sujitha C P|1-PANAYOR|          Weapons|          1/198|       Open|             Friends|                Shop|           Mohandas|          1|              Rent|Friends,Panayur p...|  10.7891065| 76.3186806|         Jayaprakash|                    974XXXX583|              null|                null|     100|VIM-001-000508|          1/198|             1|\n",
            "| VIM-001-000503| Unnikrishnan|VIM-0010502|Vaniamkulam Grama...|  Sujitha C P|1-PANAYOR|             null|         1/461A|       Open|  Sreekrishnavilasam|               House|               null|          1|               Own|Sreekrishnavilasa...|  10.7832171| 76.3271946|        Unnikrishnan|                    943XXXX222|              null|      No Ration Card|      50|VIM-001-000503|         1/461A|             1|\n",
            "+---------------+-------------+-----------+--------------------+-------------+---------+-----------------+---------------+-----------+--------------------+--------------------+-------------------+-----------+------------------+--------------------+------------+-----------+--------------------+------------------------------+------------------+--------------------+--------+--------------+---------------+--------------+\n",
            "only showing top 20 rows\n",
            "\n"
          ]
        }
      ]
    },
    {
      "cell_type": "code",
      "source": [
        "customers.count()"
      ],
      "metadata": {
        "colab": {
          "base_uri": "https://localhost:8080/"
        },
        "id": "Rc9lTEzrnM3i",
        "outputId": "17f1852a-5757-4949-828b-f5b57c77d32a"
      },
      "execution_count": null,
      "outputs": [
        {
          "output_type": "execute_result",
          "data": {
            "text/plain": [
              "10431"
            ]
          },
          "metadata": {},
          "execution_count": 8
        }
      ]
    },
    {
      "cell_type": "code",
      "source": [
        "payment.count()"
      ],
      "metadata": {
        "colab": {
          "base_uri": "https://localhost:8080/"
        },
        "id": "c34NHXwLsjKK",
        "outputId": "fe8900b9-6601-4213-eaaa-23327102bdf9"
      },
      "execution_count": null,
      "outputs": [
        {
          "output_type": "execute_result",
          "data": {
            "text/plain": [
              "5414"
            ]
          },
          "metadata": {},
          "execution_count": 9
        }
      ]
    },
    {
      "cell_type": "code",
      "source": [
        "payment_pending_customers.count()"
      ],
      "metadata": {
        "colab": {
          "base_uri": "https://localhost:8080/"
        },
        "id": "RM8zO1_6srHp",
        "outputId": "93d3a391-2241-40e8-92b8-2dc07dcca2fb"
      },
      "execution_count": null,
      "outputs": [
        {
          "output_type": "execute_result",
          "data": {
            "text/plain": [
              "5377"
            ]
          },
          "metadata": {},
          "execution_count": 10
        }
      ]
    },
    {
      "cell_type": "code",
      "source": [
        "payment_pending_customers.columns"
      ],
      "metadata": {
        "colab": {
          "base_uri": "https://localhost:8080/"
        },
        "id": "uIthzh3sszyZ",
        "outputId": "e2cb3cd4-9d4e-4ef2-950a-edfac110e635"
      },
      "execution_count": null,
      "outputs": [
        {
          "output_type": "execute_result",
          "data": {
            "text/plain": [
              "['CUSTOMER_NUMBER',\n",
              " 'CUSTOMER_NAME',\n",
              " 'QR_CODE',\n",
              " 'ORGANIZATION',\n",
              " 'SURVEYOR_NAME',\n",
              " 'WARD',\n",
              " 'TRADING_TYPE',\n",
              " 'PROPERTY_NUMBER',\n",
              " 'DOOR_STATUS',\n",
              " 'PROPERTY_NAME',\n",
              " 'PROPERTY_TYPE',\n",
              " 'PROPERTY_OWNER_NAME',\n",
              " 'TOTAL_HOUSE',\n",
              " 'PROPERTY_OWNERSHIP',\n",
              " 'ADDRESS',\n",
              " 'LATITUDE',\n",
              " 'LONGITUDE',\n",
              " 'PROPERTY_TENANT_NAME',\n",
              " 'PROPERTY_TENANT_PHONE_NUMBER28',\n",
              " 'RATION_CARD_NUMBER',\n",
              " 'RATION_CARD_TYPE',\n",
              " 'FEE_AMNT',\n",
              " 'CUSTOMER_NUM',\n",
              " 'BUILDING_NUMBER',\n",
              " 'PENDING_MONTHS']"
            ]
          },
          "metadata": {},
          "execution_count": 11
        }
      ]
    },
    {
      "cell_type": "code",
      "source": [
        "cols = ['CUSTOMER_NUMBER',\n",
        " 'CUSTOMER_NAME',\n",
        " 'WARD',\n",
        " 'PROPERTY_NUMBER',\n",
        " 'DOOR_STATUS',\n",
        " 'PROPERTY_NAME',\n",
        " 'PROPERTY_TYPE',\n",
        " 'ADDRESS',\n",
        " 'PROPERTY_TENANT_PHONE_NUMBER28',\n",
        " 'FEE_AMNT',\n",
        " 'PENDING_MONTHS']"
      ],
      "metadata": {
        "id": "gcHXa1kmt1r5"
      },
      "execution_count": null,
      "outputs": []
    },
    {
      "cell_type": "code",
      "source": [
        "payment_pending = payment_pending_customers.select(cols)"
      ],
      "metadata": {
        "id": "tM442oBLui35"
      },
      "execution_count": null,
      "outputs": []
    },
    {
      "cell_type": "code",
      "source": [
        "payment_pending.show()"
      ],
      "metadata": {
        "colab": {
          "base_uri": "https://localhost:8080/"
        },
        "id": "DBqHQdGUuqmJ",
        "outputId": "850918d5-c5fd-4dc2-d1c5-d6cd2bdd8355"
      },
      "execution_count": null,
      "outputs": [
        {
          "output_type": "stream",
          "name": "stdout",
          "text": [
            "+---------------+-------------+---------+---------------+-----------+--------------------+--------------------+--------------------+------------------------------+--------+--------------+\n",
            "|CUSTOMER_NUMBER|CUSTOMER_NAME|     WARD|PROPERTY_NUMBER|DOOR_STATUS|       PROPERTY_NAME|       PROPERTY_TYPE|             ADDRESS|PROPERTY_TENANT_PHONE_NUMBER28|FEE_AMNT|PENDING_MONTHS|\n",
            "+---------------+-------------+---------+---------------+-----------+--------------------+--------------------+--------------------+------------------------------+--------+--------------+\n",
            "| VIM-001-000550|Vijayalakshmi|1-PANAYOR|          01/00|       Open|          Thattukada|                Shop|Vijayalakshmi ,Pe...|                    953XXXX931|     100|             1|\n",
            "| VIM-001-000548|        Balan|1-PANAYOR|          1/426|       Open|          M. T store|                Shop|M. T store,Vaniya...|                    900XXXX000|     100|             2|\n",
            "| VIM-001-000538|        Salvi|1-PANAYOR|          1/771|       Open| Kizhakathala angadi|               House|Vaniyamkulam,Pana...|                    965XXXX605|      50|             4|\n",
            "| VIM-001-000537|        Latha|1-PANAYOR|          1/475|       Open|        Alikkaparamb|               House|Alikaparamb,Panay...|                    859XXXX454|      50|             1|\n",
            "| VIM-001-000536|  Shamsudheen|1-PANAYOR|          01/00|       Open|         Kelathveede|               House|         Shamsudheen|                    807XXXX820|      50|             1|\n",
            "| VIM-001-000535|   Kamaladavi|1-PANAYOR|          1/309|       Open|           Kallinkal|               House|Kallinkal,Panayur...|                    859XXXX245|      50|             3|\n",
            "| VIM-001-000534| Unnikrishnan|1-PANAYOR|          01/00|       Open|        Thayyilthodi|               House|Unnikrishnan,Thay...|                    996XXXX213|      50|             2|\n",
            "| VIM-001-000532|        Vinod|1-PANAYOR|          1/193|       Open|      Puthenthodiyil|               House|Puthenthodiyil ho...|                    965XXXX863|      50|             3|\n",
            "| VIM-001-000528|     Mutuhaji|1-PANAYOR|          1/550|       null|Manu musliyar isl...|Religious Institu...|Manu musliyar isl...|                    944XXXX748|     100|             5|\n",
            "| VIM-001-000526|       Nalini|1-PANAYOR|          1/593|       Open|    Kalathumpadikkal|               House|Kalathumpadikkal,...|                    703XXXX505|      50|             3|\n",
            "| VIM-001-000524|   Manikandan|1-PANAYOR|          1/136|       Open|        Ottuparakkal|               House|Ottuparakkal ho,P...|                    815XXXX126|      50|             3|\n",
            "| VIM-001-000523|       Ramani|1-PANAYOR|          1/128|       Open|        Veetuvalapil|               House|Veetuvalapil,Pana...|                    984XXXX381|      50|             1|\n",
            "| VIM-001-000521|         Vesa|1-PANAYOR|          1/583|       Open|   Thottappalliyalil|               House|Thottappalliyalil...|                    956XXXX747|      50|             6|\n",
            "| VIM-001-000518|    Bindhumol|1-PANAYOR|          01/00|       Open|    Naranghaparambil|               House|Naranghaparambil,...|                    956XXXX286|      50|             1|\n",
            "| VIM-001-000517|     Vasantha|1-PANAYOR|          1/780|       Open|Arikkathodi  parolil|               House|Arikkathodi parol...|                    970XXXX190|      50|             1|\n",
            "| VIM-001-000513|        Bindu|1-PANAYOR|          1/200|       Open|           Elikottil|               House|     Bindu,Elikottil|                    984XXXX725|      50|             6|\n",
            "| VIM-001-000511|      Bargavi|1-PANAYOR|          1/278|       Open|         Kanappattil|               House|Bargavi,Kanappatt...|                    996XXXX411|      50|             1|\n",
            "| VIM-001-000509|  Gangadharan|1-PANAYOR|          1/626|       Open|       Moorithodiyil|               House|Moorithodiyil ho,...|                    974XXXX805|      50|             1|\n",
            "| VIM-001-000508|  Jayaprakash|1-PANAYOR|          1/198|       Open|             Friends|                Shop|Friends,Panayur p...|                    974XXXX583|     100|             1|\n",
            "| VIM-001-000503| Unnikrishnan|1-PANAYOR|         1/461A|       Open|  Sreekrishnavilasam|               House|Sreekrishnavilasa...|                    943XXXX222|      50|             1|\n",
            "+---------------+-------------+---------+---------------+-----------+--------------------+--------------------+--------------------+------------------------------+--------+--------------+\n",
            "only showing top 20 rows\n",
            "\n"
          ]
        }
      ]
    },
    {
      "cell_type": "code",
      "source": [
        "cutomers_pending =  payment_pending.withColumn(\"Total_amt_pend\", payment_pending.FEE_AMNT * payment_pending.PENDING_MONTHS)"
      ],
      "metadata": {
        "id": "JUKuUBSHutWZ"
      },
      "execution_count": null,
      "outputs": []
    },
    {
      "cell_type": "code",
      "source": [
        "cutomers_pending.show()"
      ],
      "metadata": {
        "colab": {
          "base_uri": "https://localhost:8080/"
        },
        "id": "4EU0QtgUvP0K",
        "outputId": "ff0c915e-579a-43ea-9eff-070c3249d218"
      },
      "execution_count": null,
      "outputs": [
        {
          "output_type": "stream",
          "name": "stdout",
          "text": [
            "+---------------+-------------+---------+---------------+-----------+--------------------+--------------------+--------------------+------------------------------+--------+--------------+--------------+\n",
            "|CUSTOMER_NUMBER|CUSTOMER_NAME|     WARD|PROPERTY_NUMBER|DOOR_STATUS|       PROPERTY_NAME|       PROPERTY_TYPE|             ADDRESS|PROPERTY_TENANT_PHONE_NUMBER28|FEE_AMNT|PENDING_MONTHS|Total_amt_pend|\n",
            "+---------------+-------------+---------+---------------+-----------+--------------------+--------------------+--------------------+------------------------------+--------+--------------+--------------+\n",
            "| VIM-001-000550|Vijayalakshmi|1-PANAYOR|          01/00|       Open|          Thattukada|                Shop|Vijayalakshmi ,Pe...|                    953XXXX931|     100|             1|           100|\n",
            "| VIM-001-000548|        Balan|1-PANAYOR|          1/426|       Open|          M. T store|                Shop|M. T store,Vaniya...|                    900XXXX000|     100|             2|           200|\n",
            "| VIM-001-000538|        Salvi|1-PANAYOR|          1/771|       Open| Kizhakathala angadi|               House|Vaniyamkulam,Pana...|                    965XXXX605|      50|             4|           200|\n",
            "| VIM-001-000537|        Latha|1-PANAYOR|          1/475|       Open|        Alikkaparamb|               House|Alikaparamb,Panay...|                    859XXXX454|      50|             1|            50|\n",
            "| VIM-001-000536|  Shamsudheen|1-PANAYOR|          01/00|       Open|         Kelathveede|               House|         Shamsudheen|                    807XXXX820|      50|             1|            50|\n",
            "| VIM-001-000535|   Kamaladavi|1-PANAYOR|          1/309|       Open|           Kallinkal|               House|Kallinkal,Panayur...|                    859XXXX245|      50|             3|           150|\n",
            "| VIM-001-000534| Unnikrishnan|1-PANAYOR|          01/00|       Open|        Thayyilthodi|               House|Unnikrishnan,Thay...|                    996XXXX213|      50|             2|           100|\n",
            "| VIM-001-000532|        Vinod|1-PANAYOR|          1/193|       Open|      Puthenthodiyil|               House|Puthenthodiyil ho...|                    965XXXX863|      50|             3|           150|\n",
            "| VIM-001-000528|     Mutuhaji|1-PANAYOR|          1/550|       null|Manu musliyar isl...|Religious Institu...|Manu musliyar isl...|                    944XXXX748|     100|             5|           500|\n",
            "| VIM-001-000526|       Nalini|1-PANAYOR|          1/593|       Open|    Kalathumpadikkal|               House|Kalathumpadikkal,...|                    703XXXX505|      50|             3|           150|\n",
            "| VIM-001-000524|   Manikandan|1-PANAYOR|          1/136|       Open|        Ottuparakkal|               House|Ottuparakkal ho,P...|                    815XXXX126|      50|             3|           150|\n",
            "| VIM-001-000523|       Ramani|1-PANAYOR|          1/128|       Open|        Veetuvalapil|               House|Veetuvalapil,Pana...|                    984XXXX381|      50|             1|            50|\n",
            "| VIM-001-000521|         Vesa|1-PANAYOR|          1/583|       Open|   Thottappalliyalil|               House|Thottappalliyalil...|                    956XXXX747|      50|             6|           300|\n",
            "| VIM-001-000518|    Bindhumol|1-PANAYOR|          01/00|       Open|    Naranghaparambil|               House|Naranghaparambil,...|                    956XXXX286|      50|             1|            50|\n",
            "| VIM-001-000517|     Vasantha|1-PANAYOR|          1/780|       Open|Arikkathodi  parolil|               House|Arikkathodi parol...|                    970XXXX190|      50|             1|            50|\n",
            "| VIM-001-000513|        Bindu|1-PANAYOR|          1/200|       Open|           Elikottil|               House|     Bindu,Elikottil|                    984XXXX725|      50|             6|           300|\n",
            "| VIM-001-000511|      Bargavi|1-PANAYOR|          1/278|       Open|         Kanappattil|               House|Bargavi,Kanappatt...|                    996XXXX411|      50|             1|            50|\n",
            "| VIM-001-000509|  Gangadharan|1-PANAYOR|          1/626|       Open|       Moorithodiyil|               House|Moorithodiyil ho,...|                    974XXXX805|      50|             1|            50|\n",
            "| VIM-001-000508|  Jayaprakash|1-PANAYOR|          1/198|       Open|             Friends|                Shop|Friends,Panayur p...|                    974XXXX583|     100|             1|           100|\n",
            "| VIM-001-000503| Unnikrishnan|1-PANAYOR|         1/461A|       Open|  Sreekrishnavilasam|               House|Sreekrishnavilasa...|                    943XXXX222|      50|             1|            50|\n",
            "+---------------+-------------+---------+---------------+-----------+--------------------+--------------------+--------------------+------------------------------+--------+--------------+--------------+\n",
            "only showing top 20 rows\n",
            "\n"
          ]
        }
      ]
    },
    {
      "cell_type": "code",
      "source": [
        "Door_open = cutomers_pending.select(\"*\").where(\"DOOR_STATUS = 'Open'\").orderBy(\"Total_amt_pend\", ascending=False)"
      ],
      "metadata": {
        "id": "Uk5cuEULvYz6"
      },
      "execution_count": null,
      "outputs": []
    },
    {
      "cell_type": "code",
      "source": [
        "Door_open.repartition(1) \\\n",
        "    .write \\\n",
        "    .format(\"csv\") \\\n",
        "    .option(\"header\", \"true\") \\\n",
        "    .mode(\"overwrite\") \\\n",
        "    .partitionBy(\"WARD\") \\\n",
        "    .option(\"path\", \"/content/drive/MyDrive/Projects/HKS/Pending_payment_ward\") \\\n",
        "    .save()"
      ],
      "metadata": {
        "id": "x-d_ZpmxyDhg"
      },
      "execution_count": null,
      "outputs": []
    },
    {
      "cell_type": "code",
      "source": [],
      "metadata": {
        "id": "DssmtJzdKO-W"
      },
      "execution_count": null,
      "outputs": []
    }
  ]
}
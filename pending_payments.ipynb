{
  "nbformat": 4,
  "nbformat_minor": 0,
  "metadata": {
    "colab": {
      "provenance": [],
      "mount_file_id": "1hnZ2q4KMMcrK91w2M9ImJUTi9W_RflA0",
      "authorship_tag": "ABX9TyM9fSFTwOMbfZr/MQt0NFZM",
      "include_colab_link": true
    },
    "kernelspec": {
      "name": "python3",
      "display_name": "Python 3"
    },
    "language_info": {
      "name": "python"
    }
  },
  "cells": [
    {
      "cell_type": "markdown",
      "metadata": {
        "id": "view-in-github",
        "colab_type": "text"
      },
      "source": [
        "<a href=\"https://colab.research.google.com/github/subashmb1998/Project_HKS/blob/main/pending_payments.ipynb\" target=\"_parent\"><img src=\"https://colab.research.google.com/assets/colab-badge.svg\" alt=\"Open In Colab\"/></a>"
      ]
    },
    {
      "cell_type": "code",
      "execution_count": null,
      "metadata": {
        "colab": {
          "base_uri": "https://localhost:8080/",
          "height": 219
        },
        "id": "ERkAdUweBbeJ",
        "outputId": "56e10636-708b-43ff-ee6d-7f0c6d712573"
      },
      "outputs": [
        {
          "output_type": "execute_result",
          "data": {
            "text/plain": [
              "<pyspark.sql.session.SparkSession at 0x79036814b1f0>"
            ],
            "text/html": [
              "\n",
              "            <div>\n",
              "                <p><b>SparkSession - in-memory</b></p>\n",
              "                \n",
              "        <div>\n",
              "            <p><b>SparkContext</b></p>\n",
              "\n",
              "            <p><a href=\"http://85c83c523c9c:4040\">Spark UI</a></p>\n",
              "\n",
              "            <dl>\n",
              "              <dt>Version</dt>\n",
              "                <dd><code>v3.1.2</code></dd>\n",
              "              <dt>Master</dt>\n",
              "                <dd><code>local[*]</code></dd>\n",
              "              <dt>AppName</dt>\n",
              "                <dd><code>colab</code></dd>\n",
              "            </dl>\n",
              "        </div>\n",
              "        \n",
              "            </div>\n",
              "        "
            ]
          },
          "metadata": {},
          "execution_count": 1
        }
      ],
      "source": [
        "# Install Java\n",
        "!apt-get install openjdk-8-jdk-headless -qq > /dev/null\n",
        "\n",
        "# Install Spark\n",
        "!wget -q https://archive.apache.org/dist/spark/spark-3.1.2/spark-3.1.2-bin-hadoop2.7.tgz\n",
        "!tar xf spark-3.1.2-bin-hadoop2.7.tgz\n",
        "!rm spark-3.1.2-bin-hadoop2.7.tgz\n",
        "\n",
        "# Install findspark\n",
        "!pip install -q findspark\n",
        "\n",
        "# Set environment variables\n",
        "import os\n",
        "os.environ[\"JAVA_HOME\"] = \"/usr/lib/jvm/java-8-openjdk-amd64\"\n",
        "os.environ[\"SPARK_HOME\"] = \"/content/spark-3.1.2-bin-hadoop2.7\"\n",
        "\n",
        "# Initialize findspark\n",
        "import findspark\n",
        "findspark.init()\n",
        "\n",
        "# Verify the installation\n",
        "from pyspark.sql import SparkSession\n",
        "spark = SparkSession.builder.master(\"local[*]\").appName(\"colab\").getOrCreate()\n",
        "spark"
      ]
    },
    {
      "cell_type": "code",
      "source": [
        "payment_pend = spark.read \\\n",
        "      .format(\"csv\") \\\n",
        "      .option(\"header\", \"true\") \\\n",
        "      .option(\"inferSchema\", \"true\") \\\n",
        "      .load(\"/content/drive/MyDrive/Projects/HKS/Customer Wise Payment Due.csv\")"
      ],
      "metadata": {
        "id": "6FUl6FJ0BdZ2"
      },
      "execution_count": null,
      "outputs": []
    },
    {
      "cell_type": "code",
      "source": [
        "payment_pend.show()"
      ],
      "metadata": {
        "colab": {
          "base_uri": "https://localhost:8080/"
        },
        "id": "9SoBHJ4qCclX",
        "outputId": "da8798c7-bc1d-4357-e8f1-72a0526e0761"
      },
      "execution_count": null,
      "outputs": [
        {
          "output_type": "stream",
          "name": "stdout",
          "text": [
            "+---------+---------------+----------------+---------------+-------------+\n",
            "|WARD NAME|CUSTOMER NUMBER|   CUSTOMER NAME|BUILDING NUMBER|BUILDING TYPE|\n",
            "+---------+---------------+----------------+---------------+-------------+\n",
            "|1-PANAYOR| VIM-001-000001|Sahadevakrishnan|          1/296|        House|\n",
            "|1-PANAYOR| VIM-001-000001|Sahadevakrishnan|          1/296|        House|\n",
            "|1-PANAYOR| VIM-001-000004|    Krishankutty|          1/291|        House|\n",
            "|1-PANAYOR| VIM-001-000004|    Krishankutty|          1/291|        House|\n",
            "|1-PANAYOR| VIM-001-000004|    Krishankutty|          1/291|        House|\n",
            "|1-PANAYOR| VIM-001-000004|    Krishankutty|          1/291|        House|\n",
            "|1-PANAYOR| VIM-001-000004|    Krishankutty|          1/291|        House|\n",
            "|1-PANAYOR| VIM-001-000005|          Sabira|          1/304|         Shop|\n",
            "|1-PANAYOR| VIM-001-000005|          Sabira|          1/304|         Shop|\n",
            "|1-PANAYOR| VIM-001-000005|          Sabira|          1/304|         Shop|\n",
            "|1-PANAYOR| VIM-001-000005|          Sabira|          1/304|         Shop|\n",
            "|1-PANAYOR| VIM-001-000005|          Sabira|          1/304|         Shop|\n",
            "|1-PANAYOR| VIM-001-000005|          Sabira|          1/304|         Shop|\n",
            "|1-PANAYOR| VIM-001-000005|          Sabira|          1/304|         Shop|\n",
            "|1-PANAYOR| VIM-001-000005|          Sabira|          1/304|         Shop|\n",
            "|1-PANAYOR| VIM-001-000006|          Sabira|          1/304|        House|\n",
            "|1-PANAYOR| VIM-001-000006|          Sabira|          1/304|        House|\n",
            "|1-PANAYOR| VIM-001-000006|          Sabira|          1/304|        House|\n",
            "|1-PANAYOR| VIM-001-000006|          Sabira|          1/304|        House|\n",
            "|1-PANAYOR| VIM-001-000006|          Sabira|          1/304|        House|\n",
            "+---------+---------------+----------------+---------------+-------------+\n",
            "only showing top 20 rows\n",
            "\n"
          ]
        }
      ]
    },
    {
      "cell_type": "code",
      "source": [
        "from pyspark.sql.functions import *\n",
        "pending_count = payment_pend.select(\"CUSTOMER NUMBER\",\"BUILDING NUMBER\").groupBy(\"CUSTOMER NUMBER\", \"BUILDING NUMBER\") \\\n",
        "    .agg(count(\"building number\").alias(\"TOTAL_NO_OF_PENDING_PAYMENT\"))\n"
      ],
      "metadata": {
        "id": "u-B5IzDtCzFG"
      },
      "execution_count": null,
      "outputs": []
    },
    {
      "cell_type": "code",
      "source": [
        "pending_count.show()"
      ],
      "metadata": {
        "colab": {
          "base_uri": "https://localhost:8080/"
        },
        "id": "XorNdh8FFAg2",
        "outputId": "e9739d81-e326-4658-8979-f2531a9b6706"
      },
      "execution_count": null,
      "outputs": [
        {
          "output_type": "stream",
          "name": "stdout",
          "text": [
            "+---------------+---------------+---------------------------+\n",
            "|CUSTOMER NUMBER|BUILDING NUMBER|TOTAL_NO_OF_PENDING_PAYMENT|\n",
            "+---------------+---------------+---------------------------+\n",
            "| VIM-001-000218|          1/135|                          2|\n",
            "| VIM-003-000447|          3/155|                          2|\n",
            "| VIM-004-000044|         4/1283|                          7|\n",
            "| VIM-004-000429|            4/0|                          2|\n",
            "| VIM-004-000927|            4/0|                          1|\n",
            "| VIM-005-000122|          5/168|                          3|\n",
            "| VIM-005-000431|            5/0|                          1|\n",
            "| VIM-005-000660|          5/814|                          2|\n",
            "| VIM-007-000010|          7/762|                          3|\n",
            "| VIM-007-000120|          7/000|                          1|\n",
            "| VIM-007-000484|          7/670|                          1|\n",
            "| VIM-007-000546|           7/52|                          1|\n",
            "| VIM-007-000696|              7|                          1|\n",
            "| VIM-008-000413|          8/178|                          1|\n",
            "| VIM-013-000052|          13/77|                          2|\n",
            "| VIM-013-000270|         13/420|                          5|\n",
            "| VIM-015-000277|         15/367|                          1|\n",
            "| VIM-015-000449|         15/795|                          3|\n",
            "| VIM-017-000009|         17/120|                          1|\n",
            "| VIM-017-000179|         17/125|                          2|\n",
            "+---------------+---------------+---------------------------+\n",
            "only showing top 20 rows\n",
            "\n"
          ]
        }
      ]
    },
    {
      "cell_type": "code",
      "source": [
        "pending_count.repartition(1) \\\n",
        "    .write \\\n",
        "    .mode(\"overwrite\") \\\n",
        "    .option(\"header\", \"true\") \\\n",
        "    .format(\"csv\") \\\n",
        "    .option(\"path\", \"/content/drive/MyDrive/Projects/HKS/Pending_Payment_final\") \\\n",
        "    .save()"
      ],
      "metadata": {
        "id": "skAC-XA8QPk3"
      },
      "execution_count": null,
      "outputs": []
    },
    {
      "cell_type": "code",
      "source": [],
      "metadata": {
        "id": "c8ssIWk-RncH"
      },
      "execution_count": null,
      "outputs": []
    }
  ]
}